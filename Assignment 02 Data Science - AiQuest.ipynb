{
 "cells": [
  {
   "cell_type": "markdown",
   "id": "4c24187e",
   "metadata": {},
   "source": [
    "# ASSIGNMENT 02 - MD RASHADUL ISLAM"
   ]
  },
  {
   "cell_type": "markdown",
   "id": "72942565",
   "metadata": {},
   "source": [
    "# Python Conditions:"
   ]
  },
  {
   "cell_type": "markdown",
   "id": "6a266dcb",
   "metadata": {},
   "source": [
    "1. Take values of the length & breadth of a rectangle from user input and check if it is square or not."
   ]
  },
  {
   "cell_type": "code",
   "execution_count": 1,
   "id": "03a66684",
   "metadata": {},
   "outputs": [
    {
     "name": "stdout",
     "output_type": "stream",
     "text": [
      "Enter the length of the rectangle: 10\n",
      "Enter the breadth of the rectangle: 10\n",
      "The given rectangle is a square.\n"
     ]
    }
   ],
   "source": [
    "length = float(input(\"Enter the length of the rectangle: \"))\n",
    "breadth = float(input(\"Enter the breadth of the rectangle: \"))\n",
    "\n",
    "if length == breadth:\n",
    "    print(\"The given rectangle is a square.\")\n",
    "else:\n",
    "    print(\"The given rectangle is not a square.\")"
   ]
  },
  {
   "cell_type": "markdown",
   "id": "568cc0cd",
   "metadata": {},
   "source": [
    "Explaination: This code takes input from the user for the length and breadth of a rectangle and checks if it is a square by comparing the length and breadth using an if-else statement."
   ]
  },
  {
   "cell_type": "markdown",
   "id": "bad44dfb",
   "metadata": {},
   "source": [
    "2. Take three integer values from the user and print the greatest among them."
   ]
  },
  {
   "cell_type": "code",
   "execution_count": 2,
   "id": "ca35b353",
   "metadata": {},
   "outputs": [
    {
     "name": "stdout",
     "output_type": "stream",
     "text": [
      "Enter the first number: 60\n",
      "Enter the second number: 50\n",
      "Enter the third number: 90\n",
      "90 is the greatest.\n"
     ]
    }
   ],
   "source": [
    "num1 = int(input(\"Enter the first number: \"))\n",
    "num2 = int(input(\"Enter the second number: \"))\n",
    "num3 = int(input(\"Enter the third number: \"))\n",
    "\n",
    "if num1 > num2 and num1 > num3:\n",
    "    print(num1, \"is the greatest.\")\n",
    "elif num2 > num1 and num2 > num3:\n",
    "    print(num2, \"is the greatest.\")\n",
    "else:\n",
    "    print(num3, \"is the greatest.\")"
   ]
  },
  {
   "cell_type": "markdown",
   "id": "f1a5dba9",
   "metadata": {},
   "source": [
    "Explaination: This code takes input from the user for three integer values and finds the greatest among them using if-elif-else statement."
   ]
  },
  {
   "cell_type": "markdown",
   "id": "59c33a5b",
   "metadata": {},
   "source": [
    "3. A student will not be allowed to sit in an exam if his/her attendance is less than 75%"
   ]
  },
  {
   "cell_type": "code",
   "execution_count": 3,
   "id": "54d26e28",
   "metadata": {},
   "outputs": [
    {
     "name": "stdout",
     "output_type": "stream",
     "text": [
      "Enter the attendance percentage: 60\n",
      "The student is not eligible to sit in the exam.\n"
     ]
    }
   ],
   "source": [
    "attendance = float(input(\"Enter the attendance percentage: \"))\n",
    "\n",
    "if attendance >= 75:\n",
    "    print(\"The student is eligible to sit in the exam.\")\n",
    "else:\n",
    "    print(\"The student is not eligible to sit in the exam.\")"
   ]
  },
  {
   "cell_type": "markdown",
   "id": "4615be31",
   "metadata": {},
   "source": [
    "Explaination: This code takes input from the user for attendance percentage of a student and checks if the attendance is greater than or equal to 75 using an if-else statement."
   ]
  },
  {
   "cell_type": "markdown",
   "id": "68c4f523",
   "metadata": {},
   "source": [
    "4. A school has the following rules for the grading system:\n",
    "Below 25 – F, 25 to 44 – E, 45 to 49 – D, 50 to 59 – C, 60 to 79 – B, 80 to 89 - A, Above 90 - A+\n",
    "Now, Ask the user to enter marks and print the corresponding grade."
   ]
  },
  {
   "cell_type": "code",
   "execution_count": 4,
   "id": "2a232558",
   "metadata": {},
   "outputs": [
    {
     "name": "stdout",
     "output_type": "stream",
     "text": [
      "Enter the marks: 77\n",
      "The grade for the given marks is: B\n"
     ]
    }
   ],
   "source": [
    "marks = float(input(\"Enter the marks: \"))\n",
    "\n",
    "if marks >= 90:\n",
    "    grade = \"A+\"\n",
    "elif marks >= 80:\n",
    "    grade = \"A\"\n",
    "elif marks >= 60:\n",
    "    grade = \"B\"\n",
    "elif marks >= 50:\n",
    "    grade = \"C\"\n",
    "elif marks >= 45:\n",
    "    grade = \"D\"\n",
    "elif marks >= 25:\n",
    "    grade = \"E\"\n",
    "else:\n",
    "    grade = \"F\"\n",
    "\n",
    "print(\"The grade for the given marks is:\", grade)"
   ]
  },
  {
   "cell_type": "markdown",
   "id": "120a4d74",
   "metadata": {},
   "source": [
    "Explaination: This code takes input from the user for marks and prints the corresponding grade based on a school's grading system using if-elif statements."
   ]
  },
  {
   "cell_type": "markdown",
   "id": "abaa4133",
   "metadata": {},
   "source": [
    "# Loop Problem:"
   ]
  },
  {
   "cell_type": "markdown",
   "id": "7ea04620",
   "metadata": {},
   "source": [
    "5. Print the following pattern using for and while loop.\n",
    "1 2 3 4 5 6 7\n",
    "1 2 3 4 5 6\n",
    "1 2 3 4 5\n",
    "1 2 3 4"
   ]
  },
  {
   "cell_type": "code",
   "execution_count": 26,
   "id": "d70f2219",
   "metadata": {},
   "outputs": [
    {
     "name": "stdout",
     "output_type": "stream",
     "text": [
      "1 2 3 4 5 6 \n",
      "1 2 3 4 5 \n",
      "1 2 3 4 \n",
      "1 2 3 \n",
      "1 2 \n",
      "1 \n",
      "\n",
      "1 2 3 4 5 6 \n",
      "1 2 3 4 5 \n",
      "1 2 3 4 \n",
      "1 2 3 \n",
      "1 2 \n",
      "1 \n",
      "\n"
     ]
    }
   ],
   "source": [
    "# Using for loop\n",
    "for i in range(7, 0, -1):\n",
    "    for j in range(1, i):\n",
    "        print(j, end=\" \")\n",
    "    print()\n",
    "\n",
    "# Using while loop\n",
    "i = 7\n",
    "while i > 0:\n",
    "    j = 1\n",
    "    while j < i:\n",
    "        print(j, end=\" \")\n",
    "        j += 1\n",
    "    print()\n",
    "    i -= 1"
   ]
  },
  {
   "cell_type": "markdown",
   "id": "2d86159f",
   "metadata": {},
   "source": [
    "Explaination: This code prints a pattern using nested for and while loops."
   ]
  },
  {
   "cell_type": "markdown",
   "id": "0a4ab308",
   "metadata": {},
   "source": [
    "6. Display numbers from -100 to -10 using for loop."
   ]
  },
  {
   "cell_type": "code",
   "execution_count": 7,
   "id": "b15de75b",
   "metadata": {},
   "outputs": [
    {
     "name": "stdout",
     "output_type": "stream",
     "text": [
      "-100 -99 -98 -97 -96 -95 -94 -93 -92 -91 -90 -89 -88 -87 -86 -85 -84 -83 -82 -81 -80 -79 -78 -77 -76 -75 -74 -73 -72 -71 -70 -69 -68 -67 -66 -65 -64 -63 -62 -61 -60 -59 -58 -57 -56 -55 -54 -53 -52 -51 -50 -49 -48 -47 -46 -45 -44 -43 -42 -41 -40 -39 -38 -37 -36 -35 -34 -33 -32 -31 -30 -29 -28 -27 -26 -25 -24 -23 -22 -21 -20 -19 -18 -17 -16 -15 -14 -13 -12 -11 -10 "
     ]
    }
   ],
   "source": [
    "for i in range(-100, -9):\n",
    "    print(i, end=\" \")"
   ]
  },
  {
   "cell_type": "markdown",
   "id": "40308c5e",
   "metadata": {},
   "source": [
    "Explaination: This code uses a for loop to print numbers from -100 to -10."
   ]
  },
  {
   "cell_type": "markdown",
   "id": "ee9cd502",
   "metadata": {},
   "source": [
    "7. Write a program to sum all prime numbers within a range of 10 to 1000."
   ]
  },
  {
   "cell_type": "code",
   "execution_count": 9,
   "id": "ada70b10",
   "metadata": {},
   "outputs": [
    {
     "name": "stdout",
     "output_type": "stream",
     "text": [
      "The sum of prime numbers between 10 and 1000 is: 76110\n"
     ]
    }
   ],
   "source": [
    "def is_prime(num):\n",
    "    if num <= 1:\n",
    "        return False\n",
    "    for i in range(2, int(num**0.5)+1):\n",
    "        if num % i == 0:\n",
    "            return False\n",
    "    return True\n",
    "\n",
    "start = 10\n",
    "end = 1000\n",
    "total = 0\n",
    "\n",
    "for num in range(start, end+1):\n",
    "    if is_prime(num):\n",
    "        total += num\n",
    "\n",
    "print(\"The sum of prime numbers between\", start, \"and\", end, \"is:\", total)"
   ]
  },
  {
   "cell_type": "markdown",
   "id": "26abeefe",
   "metadata": {},
   "source": [
    "Explaination: The first step is to define a function called is_prime that takes an integer as input and returns True if it's prime and False otherwise. The function checks whether the input number is less than 2 (in which case it's not prime), and then loops through all integers between 2 and the square root of the input number. If the input number is divisible by any of these integers, it's not prime, so the function returns False. If the loop completes without finding a factor, the input number is prime, so the function returns True.\n",
    "\n",
    "Next, the lower and upper bounds of the range to check are defined as variables lower_bound and upper_bound, respectively.\n",
    "\n",
    "A variable called sum_of_primes is initialized to 0, which will be used to accumulate the sum of all the prime numbers found.\n",
    "\n",
    "A for loop is used to iterate through each number in the range from lower_bound to upper_bound. For each number, the is_prime function is called to check if it's prime. If it is, its value is added to sum_of_primes.\n",
    "\n",
    "Finally, the sum of all prime numbers is printed to the console."
   ]
  },
  {
   "cell_type": "markdown",
   "id": "85899074",
   "metadata": {},
   "source": [
    "8. Find the factorial of an n! (Hint, n=7: 7*6*5*4*3*2*1)."
   ]
  },
  {
   "cell_type": "code",
   "execution_count": 10,
   "id": "6b1fcfd5",
   "metadata": {},
   "outputs": [
    {
     "name": "stdout",
     "output_type": "stream",
     "text": [
      "The factorial of 7 is: 5040\n"
     ]
    }
   ],
   "source": [
    "n = 7\n",
    "factorial = 1\n",
    "\n",
    "for i in range(1, n+1):\n",
    "    factorial *= i\n",
    "\n",
    "print(\"The factorial of\", n, \"is:\", factorial)"
   ]
  },
  {
   "cell_type": "markdown",
   "id": "abc0323d",
   "metadata": {},
   "source": [
    "Explaination: In this code, we initialize the factorial variable to 1, and then use a for loop to iterate from 1 to n. In each iteration, we multiply the current value of factorial with the current value of i, and then store the result back in factorial. Finally, we print the value of factorial to the console."
   ]
  },
  {
   "cell_type": "markdown",
   "id": "954f33ca",
   "metadata": {},
   "source": [
    "9. Reverse a given integer number 27956240710."
   ]
  },
  {
   "cell_type": "code",
   "execution_count": 27,
   "id": "b636fa73",
   "metadata": {},
   "outputs": [
    {
     "name": "stdout",
     "output_type": "stream",
     "text": [
      "The reversed number is: 1704265972\n"
     ]
    }
   ],
   "source": [
    "num=27956240710\n",
    "# Convert number to string, reverse it using slicing, and convert back to int\n",
    "reverse_num= int(str(num)[::-1])\n",
    "print('The reversed number is:', reverse_num)"
   ]
  },
  {
   "cell_type": "markdown",
   "id": "8ca09a33",
   "metadata": {},
   "source": [
    "Explaination: In this code, we first convert the integer num to a string using the str() function, and store the result in the variable num_str. We then use Python's string slicing syntax to reverse the string, by specifying a negative step size of -1, and store the result in the variable rev_str. Finally, we convert the reversed string back to an integer using the int() function, and store the result in the variable rev_num. We then print the value of rev_num to the console."
   ]
  },
  {
   "cell_type": "markdown",
   "id": "5464ea44",
   "metadata": {},
   "source": [
    "10. Print the following pattern using for and while loop.\n",
    "# # #\n",
    "# # # #\n",
    "# # #\n",
    "# #"
   ]
  },
  {
   "cell_type": "code",
   "execution_count": 29,
   "id": "35e4774a",
   "metadata": {},
   "outputs": [
    {
     "name": "stdout",
     "output_type": "stream",
     "text": [
      "# \n",
      "# # \n",
      "# # # \n",
      "# # \n",
      "# \n",
      "# \n",
      "# # \n",
      "# # # \n",
      "# # \n",
      "# \n"
     ]
    }
   ],
   "source": [
    "# Using a for loop\n",
    "\n",
    "for i in range(3):\n",
    "    for j in range(i+1):\n",
    "        print(\"#\", end=\" \")\n",
    "    print()\n",
    "for i in range(2, 0, -1):\n",
    "    for j in range(i):\n",
    "        print(\"#\", end=\" \")\n",
    "    print()\n",
    "\n",
    "# Using a while loop\n",
    "\n",
    "i = 0\n",
    "while i < 3:\n",
    "    j = 0\n",
    "    while j <= i:\n",
    "        print(\"#\", end=\" \")\n",
    "        j += 1\n",
    "    print()\n",
    "    i += 1\n",
    "\n",
    "i = 2\n",
    "while i > 0:\n",
    "    j = 0\n",
    "    while j < i:\n",
    "        print(\"#\", end=\" \")\n",
    "        j += 1\n",
    "    print()\n",
    "    i -= 1\n"
   ]
  },
  {
   "cell_type": "markdown",
   "id": "4d739209",
   "metadata": {},
   "source": [
    "Explaination:Using a for loop, the first section of the pattern is printed by iterating over the range of 3 and nested for loop inside to print the # characters. The nested loop iterates over a range starting from 0 to i+1, where i increases by 1 after each iteration of the outer loop. The end parameter in the print statement is used to avoid starting a new line after printing each character. After each row is printed, the print function is called with no arguments to start a new line.\n",
    "\n",
    "Then, using another for loop and a nested for loop, the second section of the pattern is printed by iterating over the range of 2 to 0 with a step of -1. The inner loop iterates over a range starting from 0 to i, where i decreases by 1 after each iteration of the outer loop.\n",
    "\n",
    "The same pattern is printed using while loops by initializing a variable i to 0, then iterating over it and incrementing it by 1 after each iteration. Inside the outer loop, a variable j is initialized to 0, then the inner loop iterates over j while it is less than or equal to i, printing a '#' character at each iteration. Finally, after each row is printed, the i variable is incremented by 1.\n",
    "\n",
    "The second section of the pattern is printed using another while loop by initializing i to 2, then iterating over it and decrementing it by 1 after each iteration. Inside the outer loop, a variable j is initialized to 0, then the inner loop iterates over j while it is less than i, printing a '#' character at each iteration. Finally, after each row is printed, the i variable is decremented by 1."
   ]
  },
  {
   "cell_type": "markdown",
   "id": "17cf2b35",
   "metadata": {},
   "source": [
    "11. Display the Fibonacci series of 15 elements using the for and while loop."
   ]
  },
  {
   "cell_type": "code",
   "execution_count": 30,
   "id": "7c7ce97d",
   "metadata": {},
   "outputs": [
    {
     "name": "stdout",
     "output_type": "stream",
     "text": [
      "0 1 1 2 3 5 8 13 21 34 55 89 144 233 377 0 1 1 2 3 5 8 13 21 34 55 89 144 233 377 "
     ]
    }
   ],
   "source": [
    "# Using a for loop\n",
    "a, b = 0, 1\n",
    "for i in range(15):\n",
    "    print(a, end=\" \")\n",
    "    a, b = b, a+b\n",
    "\n",
    "# Using a while loop\n",
    "a, b = 0, 1\n",
    "i = 0\n",
    "while i < 15:\n",
    "    print(a, end=\" \")\n",
    "    a, b = b, a+b\n",
    "    i += 1"
   ]
  },
  {
   "cell_type": "markdown",
   "id": "cd4ec036",
   "metadata": {},
   "source": [
    "Explaination: In both versions, two variables, a and b, are initialized to 0 and 1, respectively. These variables represent the current and next numbers in the sequence. In each iteration of the loop, the current value of a is printed, followed by a space. Then, a is set equal to b, and b is set equal to a+b. This effectively shifts the sequence forward by one step. In the for loop version, the range() function is used to control the number of iterations. In the while loop version, a separate counter variable, i, is used to limit the number of iterations."
   ]
  },
  {
   "cell_type": "markdown",
   "id": "43a6de3f",
   "metadata": {},
   "source": [
    "# Python inbuilt Data Structure:"
   ]
  },
  {
   "cell_type": "markdown",
   "id": "4f35ef35",
   "metadata": {},
   "source": [
    "12. Remove 2 and add 3 to the list and replace True with False.\n",
    "Li = [1,3,5, [2,3], True]\n",
    "Output = [1,3,5, [3,3], False]"
   ]
  },
  {
   "cell_type": "code",
   "execution_count": 18,
   "id": "394173cd",
   "metadata": {},
   "outputs": [
    {
     "name": "stdout",
     "output_type": "stream",
     "text": [
      "[1, 3, 5, [3, 3], False]\n"
     ]
    }
   ],
   "source": [
    "Li = [1,3,5, [2,3], True]\n",
    "\n",
    "Li[3][0]=3\n",
    "Li[-1] = False\n",
    "\n",
    "print(Li)\n"
   ]
  },
  {
   "cell_type": "markdown",
   "id": "d17afb24",
   "metadata": {},
   "source": [
    "Explaination: \n",
    "This code creates a list Li with 5 elements. The first element is an integer 1, the second element is an integer 3, the third element is an integer 5, the fourth element is a nested list [2,3] and the last element is a boolean value True.\n",
    "\n",
    "The code then modifies the first element of the nested list within the Li list by setting it to 3. This is done by indexing the nested list using Li[3] and then setting its first element to 3 using Li[3][0] = 3. So now the Li list becomes [1, 3, 5, [3, 3], True].\n",
    "\n",
    "The code also replaces the last element of the Li list from True to False by using negative indexing to access the last element of the list and then setting its value to False using Li[-1] = False. So, the final output of the code will be [1, 3, 5, [3, 3], False]."
   ]
  },
  {
   "cell_type": "markdown",
   "id": "60cdc36a",
   "metadata": {},
   "source": [
    "13. Find the intersection (common) of two sets.\n",
    "S1 = {1,4,6,8}\n",
    "S2 = {True, 1,2,10}"
   ]
  },
  {
   "cell_type": "code",
   "execution_count": 34,
   "id": "ae703e2f",
   "metadata": {},
   "outputs": [
    {
     "name": "stdout",
     "output_type": "stream",
     "text": [
      "{1}\n"
     ]
    }
   ],
   "source": [
    "S1 = {1,4,6,8} \n",
    "S2 = {True, 1,2,10}\n",
    "\n",
    "# Using Intersection Method\n",
    "\n",
    "common=S1.intersection(S2)\n",
    "common_int= {int(x) for x in common} # Convert the elements to integers\n",
    "print(common_int)"
   ]
  },
  {
   "cell_type": "markdown",
   "id": "4b71af81",
   "metadata": {},
   "source": [
    "Explaination: This code snippet shows how to find the common elements between two sets using the intersection() method. In this case, we have two sets S1 and S2, and we want to find their intersection. The intersection() method returns a new set containing the common elements between the two sets. In this example, the common element between S1 and S2 is 1."
   ]
  },
  {
   "cell_type": "markdown",
   "id": "462a47ba",
   "metadata": {},
   "source": [
    "14. Input a list from the user then Remove duplicates from a list and create a set and find the max\n",
    "number. User_input = [1,9,3,4,5,200,54]"
   ]
  },
  {
   "cell_type": "code",
   "execution_count": 22,
   "id": "92f27f6c",
   "metadata": {},
   "outputs": [
    {
     "name": "stdout",
     "output_type": "stream",
     "text": [
      "Unique list: [1, 3, 4, 5, 200, 9, 54]\n",
      "Max number: 200\n"
     ]
    }
   ],
   "source": [
    "user_input = [1, 9, 3, 4, 5, 200, 54]\n",
    "\n",
    "unique_list = list(set(user_input))\n",
    "max_number = max(unique_list)\n",
    "\n",
    "print(\"Unique list:\", unique_list)\n",
    "print(\"Max number:\", max_number)"
   ]
  },
  {
   "cell_type": "markdown",
   "id": "e1b53b2d",
   "metadata": {},
   "source": [
    "Explaination:This code snippet shows how to remove duplicates from a list, create a set, and find the maximum number from the list. First, the user is prompted to input a list of numbers. Then, we use the set() function to create a set from the list, which automatically removes duplicates. Finally, we use the max() function to find the maximum number from the original list."
   ]
  },
  {
   "cell_type": "markdown",
   "id": "c340ffa2",
   "metadata": {},
   "source": [
    "15. Rename the key of a dictionary.\n",
    "Dict = { \"name\": \"Shakil\", \"age\":27, \"city\": “Berlin”, \"country\": \"Germany\" }\n",
    "Write a program to rename a key ‘country’ to a ‘region’ in the following dictionary."
   ]
  },
  {
   "cell_type": "code",
   "execution_count": 23,
   "id": "9e25df03",
   "metadata": {},
   "outputs": [
    {
     "name": "stdout",
     "output_type": "stream",
     "text": [
      "{'name': 'Shakil', 'age': 27, 'city': 'Berlin', 'region': 'Germany'}\n"
     ]
    }
   ],
   "source": [
    "Dict = {\"name\": \"Shakil\", \"age\": 27, \"city\": \"Berlin\", \"country\": \"Germany\"}\n",
    "\n",
    "Dict[\"region\"] = Dict.pop(\"country\")\n",
    "\n",
    "print(Dict)"
   ]
  },
  {
   "cell_type": "markdown",
   "id": "191aadc2",
   "metadata": {},
   "source": [
    "Explaination: This code snippet shows how to rename a key in a dictionary. In this example, we have a dictionary Dict with the key \"country\", and we want to rename it to \"region\". To do this, we create a new key \"region\" with the value of the old key \"country\", and then delete the old key. This effectively renames the key from \"country\" to \"region\"."
   ]
  },
  {
   "cell_type": "markdown",
   "id": "c32991ce",
   "metadata": {},
   "source": [
    "16. Creating a data frame using the list.\n",
    "num = [10,100,300] (column name is number)"
   ]
  },
  {
   "cell_type": "code",
   "execution_count": 24,
   "id": "a1404254",
   "metadata": {},
   "outputs": [
    {
     "name": "stdout",
     "output_type": "stream",
     "text": [
      "   number\n",
      "0      10\n",
      "1     100\n",
      "2     300\n"
     ]
    }
   ],
   "source": [
    "import pandas as pd\n",
    "\n",
    "num = [10, 100, 300]\n",
    "df = pd.DataFrame({'number': num})\n",
    "\n",
    "print(df)"
   ]
  },
  {
   "cell_type": "markdown",
   "id": "68f86a8b",
   "metadata": {},
   "source": [
    "Explaination: This code snippet shows how to create a data frame in Pandas using a list. First, we import the Pandas library using the import pandas as pd statement. Then, we create a list num with the values [10, 100, 300]. We create a data frame using the pd.DataFrame() function, passing the list as a dictionary with the key \"number\". This creates a data frame with one column named \"number\" and three rows with the values [10, 100, 300].\n",
    "\n"
   ]
  },
  {
   "cell_type": "markdown",
   "id": "e1dc5ec0",
   "metadata": {},
   "source": [
    "17. Change the value of a key in a given dictionary.\n",
    "Write a Python program to change ‘age’ to 28 in the following dictionary.\n",
    "Dict = { \"name\": \"Shakil\", \"age\":27, \"city\": “Berlin”, \"country\": \"Germany\" }"
   ]
  },
  {
   "cell_type": "code",
   "execution_count": 25,
   "id": "6e8630d8",
   "metadata": {},
   "outputs": [
    {
     "name": "stdout",
     "output_type": "stream",
     "text": [
      "{'name': 'Shakil', 'age': 28, 'city': 'Berlin', 'country': 'Germany'}\n"
     ]
    }
   ],
   "source": [
    "Dict = {\"name\": \"Shakil\", \"age\": 27, \"city\": \"Berlin\", \"country\": \"Germany\"}\n",
    "\n",
    "Dict[\"age\"] = 28\n",
    "\n",
    "print(Dict)"
   ]
  },
  {
   "cell_type": "markdown",
   "id": "a66e3b40",
   "metadata": {},
   "source": [
    "Explaination: This code snippet shows how to change the value of a key in a dictionary. In this example, we have a dictionary Dict with the key \"age\", and we want to change its value from 27 to 28. To do this, we simply access the key \"age\" using square brackets and assign it the new value 28. This changes the value of the key \"age\" from 27 to 28."
   ]
  }
 ],
 "metadata": {
  "kernelspec": {
   "display_name": "Python 3 (ipykernel)",
   "language": "python",
   "name": "python3"
  },
  "language_info": {
   "codemirror_mode": {
    "name": "ipython",
    "version": 3
   },
   "file_extension": ".py",
   "mimetype": "text/x-python",
   "name": "python",
   "nbconvert_exporter": "python",
   "pygments_lexer": "ipython3",
   "version": "3.10.9"
  }
 },
 "nbformat": 4,
 "nbformat_minor": 5
}
