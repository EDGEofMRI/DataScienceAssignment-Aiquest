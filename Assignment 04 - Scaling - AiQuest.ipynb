{
 "cells": [
  {
   "cell_type": "markdown",
   "id": "47fff044",
   "metadata": {},
   "source": [
    "# Assignment-04 MD Rashadul Islam"
   ]
  },
  {
   "cell_type": "code",
   "execution_count": 1,
   "id": "ece301b3",
   "metadata": {},
   "outputs": [],
   "source": [
    "import pandas as pd\n",
    "import numpy as np #mathematical library"
   ]
  },
  {
   "cell_type": "markdown",
   "id": "7c56cbf8",
   "metadata": {},
   "source": [
    "Importing Pandas for working with structured data and perform mathematical operation"
   ]
  },
  {
   "cell_type": "code",
   "execution_count": 2,
   "id": "52de622c",
   "metadata": {},
   "outputs": [],
   "source": [
    "df = pd.read_csv('supershops.csv')"
   ]
  },
  {
   "cell_type": "markdown",
   "id": "a2d67313",
   "metadata": {},
   "source": [
    "Reading specific file from destination folder"
   ]
  },
  {
   "cell_type": "code",
   "execution_count": 3,
   "id": "4afa1c7e",
   "metadata": {},
   "outputs": [
    {
     "data": {
      "text/html": [
       "<div>\n",
       "<style scoped>\n",
       "    .dataframe tbody tr th:only-of-type {\n",
       "        vertical-align: middle;\n",
       "    }\n",
       "\n",
       "    .dataframe tbody tr th {\n",
       "        vertical-align: top;\n",
       "    }\n",
       "\n",
       "    .dataframe thead th {\n",
       "        text-align: right;\n",
       "    }\n",
       "</style>\n",
       "<table border=\"1\" class=\"dataframe\">\n",
       "  <thead>\n",
       "    <tr style=\"text-align: right;\">\n",
       "      <th></th>\n",
       "      <th>Marketing Spend</th>\n",
       "      <th>Administration</th>\n",
       "      <th>Transport</th>\n",
       "      <th>Area</th>\n",
       "      <th>Profit</th>\n",
       "    </tr>\n",
       "  </thead>\n",
       "  <tbody>\n",
       "    <tr>\n",
       "      <th>0</th>\n",
       "      <td>114523.61</td>\n",
       "      <td>136897.80</td>\n",
       "      <td>471784.10</td>\n",
       "      <td>Dhaka</td>\n",
       "      <td>192261.83</td>\n",
       "    </tr>\n",
       "    <tr>\n",
       "      <th>1</th>\n",
       "      <td>162597.70</td>\n",
       "      <td>151377.59</td>\n",
       "      <td>443898.53</td>\n",
       "      <td>Ctg</td>\n",
       "      <td>191792.06</td>\n",
       "    </tr>\n",
       "    <tr>\n",
       "      <th>2</th>\n",
       "      <td>153441.51</td>\n",
       "      <td>101145.55</td>\n",
       "      <td>407934.54</td>\n",
       "      <td>Rangpur</td>\n",
       "      <td>191050.39</td>\n",
       "    </tr>\n",
       "    <tr>\n",
       "      <th>3</th>\n",
       "      <td>144372.41</td>\n",
       "      <td>118671.85</td>\n",
       "      <td>383199.62</td>\n",
       "      <td>Dhaka</td>\n",
       "      <td>182901.99</td>\n",
       "    </tr>\n",
       "    <tr>\n",
       "      <th>4</th>\n",
       "      <td>142107.34</td>\n",
       "      <td>91391.77</td>\n",
       "      <td>366168.42</td>\n",
       "      <td>Rangpur</td>\n",
       "      <td>166187.94</td>\n",
       "    </tr>\n",
       "  </tbody>\n",
       "</table>\n",
       "</div>"
      ],
      "text/plain": [
       "   Marketing Spend  Administration  Transport     Area     Profit\n",
       "0        114523.61       136897.80  471784.10    Dhaka  192261.83\n",
       "1        162597.70       151377.59  443898.53      Ctg  191792.06\n",
       "2        153441.51       101145.55  407934.54  Rangpur  191050.39\n",
       "3        144372.41       118671.85  383199.62    Dhaka  182901.99\n",
       "4        142107.34        91391.77  366168.42  Rangpur  166187.94"
      ]
     },
     "execution_count": 3,
     "metadata": {},
     "output_type": "execute_result"
    }
   ],
   "source": [
    "df.head()"
   ]
  },
  {
   "cell_type": "code",
   "execution_count": 4,
   "id": "51d08f34",
   "metadata": {},
   "outputs": [],
   "source": [
    "df2 = df.copy()\n",
    "df3 = df.copy()\n",
    "df4 = df.copy()\n",
    "df5 = df.copy()\n",
    "df6 = df.copy()\n",
    "df7 = df.copy()\n",
    "df8 = df.copy()\n",
    "df9 = df.copy()\n",
    "df10 = df.copy()"
   ]
  },
  {
   "cell_type": "markdown",
   "id": "047ecaaa",
   "metadata": {},
   "source": [
    "Performing all these process:\n",
    "\n",
    "1. Normalization\n",
    "2. Standardization\n",
    "3. Log Transformation\n",
    "4. Robust Scaler\n",
    "5. Max Absolute Scaler\n"
   ]
  },
  {
   "cell_type": "markdown",
   "id": "ad8ae66b",
   "metadata": {},
   "source": [
    "# Normalization"
   ]
  },
  {
   "cell_type": "code",
   "execution_count": 5,
   "id": "75a5a7f0",
   "metadata": {},
   "outputs": [],
   "source": [
    "from sklearn.preprocessing import MinMaxScaler\n",
    "m = MinMaxScaler() #default feature_range=(0,1)"
   ]
  },
  {
   "cell_type": "code",
   "execution_count": 6,
   "id": "32bfc06d",
   "metadata": {},
   "outputs": [],
   "source": [
    "df_ms = m.fit(df[['Marketing Spend']]) # calculation everything"
   ]
  },
  {
   "cell_type": "code",
   "execution_count": 7,
   "id": "6939b2d1",
   "metadata": {},
   "outputs": [
    {
     "data": {
      "text/html": [
       "<style>#sk-container-id-1 {color: black;background-color: white;}#sk-container-id-1 pre{padding: 0;}#sk-container-id-1 div.sk-toggleable {background-color: white;}#sk-container-id-1 label.sk-toggleable__label {cursor: pointer;display: block;width: 100%;margin-bottom: 0;padding: 0.3em;box-sizing: border-box;text-align: center;}#sk-container-id-1 label.sk-toggleable__label-arrow:before {content: \"▸\";float: left;margin-right: 0.25em;color: #696969;}#sk-container-id-1 label.sk-toggleable__label-arrow:hover:before {color: black;}#sk-container-id-1 div.sk-estimator:hover label.sk-toggleable__label-arrow:before {color: black;}#sk-container-id-1 div.sk-toggleable__content {max-height: 0;max-width: 0;overflow: hidden;text-align: left;background-color: #f0f8ff;}#sk-container-id-1 div.sk-toggleable__content pre {margin: 0.2em;color: black;border-radius: 0.25em;background-color: #f0f8ff;}#sk-container-id-1 input.sk-toggleable__control:checked~div.sk-toggleable__content {max-height: 200px;max-width: 100%;overflow: auto;}#sk-container-id-1 input.sk-toggleable__control:checked~label.sk-toggleable__label-arrow:before {content: \"▾\";}#sk-container-id-1 div.sk-estimator input.sk-toggleable__control:checked~label.sk-toggleable__label {background-color: #d4ebff;}#sk-container-id-1 div.sk-label input.sk-toggleable__control:checked~label.sk-toggleable__label {background-color: #d4ebff;}#sk-container-id-1 input.sk-hidden--visually {border: 0;clip: rect(1px 1px 1px 1px);clip: rect(1px, 1px, 1px, 1px);height: 1px;margin: -1px;overflow: hidden;padding: 0;position: absolute;width: 1px;}#sk-container-id-1 div.sk-estimator {font-family: monospace;background-color: #f0f8ff;border: 1px dotted black;border-radius: 0.25em;box-sizing: border-box;margin-bottom: 0.5em;}#sk-container-id-1 div.sk-estimator:hover {background-color: #d4ebff;}#sk-container-id-1 div.sk-parallel-item::after {content: \"\";width: 100%;border-bottom: 1px solid gray;flex-grow: 1;}#sk-container-id-1 div.sk-label:hover label.sk-toggleable__label {background-color: #d4ebff;}#sk-container-id-1 div.sk-serial::before {content: \"\";position: absolute;border-left: 1px solid gray;box-sizing: border-box;top: 0;bottom: 0;left: 50%;z-index: 0;}#sk-container-id-1 div.sk-serial {display: flex;flex-direction: column;align-items: center;background-color: white;padding-right: 0.2em;padding-left: 0.2em;position: relative;}#sk-container-id-1 div.sk-item {position: relative;z-index: 1;}#sk-container-id-1 div.sk-parallel {display: flex;align-items: stretch;justify-content: center;background-color: white;position: relative;}#sk-container-id-1 div.sk-item::before, #sk-container-id-1 div.sk-parallel-item::before {content: \"\";position: absolute;border-left: 1px solid gray;box-sizing: border-box;top: 0;bottom: 0;left: 50%;z-index: -1;}#sk-container-id-1 div.sk-parallel-item {display: flex;flex-direction: column;z-index: 1;position: relative;background-color: white;}#sk-container-id-1 div.sk-parallel-item:first-child::after {align-self: flex-end;width: 50%;}#sk-container-id-1 div.sk-parallel-item:last-child::after {align-self: flex-start;width: 50%;}#sk-container-id-1 div.sk-parallel-item:only-child::after {width: 0;}#sk-container-id-1 div.sk-dashed-wrapped {border: 1px dashed gray;margin: 0 0.4em 0.5em 0.4em;box-sizing: border-box;padding-bottom: 0.4em;background-color: white;}#sk-container-id-1 div.sk-label label {font-family: monospace;font-weight: bold;display: inline-block;line-height: 1.2em;}#sk-container-id-1 div.sk-label-container {text-align: center;}#sk-container-id-1 div.sk-container {/* jupyter's `normalize.less` sets `[hidden] { display: none; }` but bootstrap.min.css set `[hidden] { display: none !important; }` so we also need the `!important` here to be able to override the default hidden behavior on the sphinx rendered scikit-learn.org. See: https://github.com/scikit-learn/scikit-learn/issues/21755 */display: inline-block !important;position: relative;}#sk-container-id-1 div.sk-text-repr-fallback {display: none;}</style><div id=\"sk-container-id-1\" class=\"sk-top-container\"><div class=\"sk-text-repr-fallback\"><pre>MinMaxScaler()</pre><b>In a Jupyter environment, please rerun this cell to show the HTML representation or trust the notebook. <br />On GitHub, the HTML representation is unable to render, please try loading this page with nbviewer.org.</b></div><div class=\"sk-container\" hidden><div class=\"sk-item\"><div class=\"sk-estimator sk-toggleable\"><input class=\"sk-toggleable__control sk-hidden--visually\" id=\"sk-estimator-id-1\" type=\"checkbox\" checked><label for=\"sk-estimator-id-1\" class=\"sk-toggleable__label sk-toggleable__label-arrow\">MinMaxScaler</label><div class=\"sk-toggleable__content\"><pre>MinMaxScaler()</pre></div></div></div></div></div>"
      ],
      "text/plain": [
       "MinMaxScaler()"
      ]
     },
     "execution_count": 7,
     "metadata": {},
     "output_type": "execute_result"
    }
   ],
   "source": [
    "df_ms"
   ]
  },
  {
   "cell_type": "code",
   "execution_count": 8,
   "id": "8186c889",
   "metadata": {},
   "outputs": [
    {
     "data": {
      "text/html": [
       "<div>\n",
       "<style scoped>\n",
       "    .dataframe tbody tr th:only-of-type {\n",
       "        vertical-align: middle;\n",
       "    }\n",
       "\n",
       "    .dataframe tbody tr th {\n",
       "        vertical-align: top;\n",
       "    }\n",
       "\n",
       "    .dataframe thead th {\n",
       "        text-align: right;\n",
       "    }\n",
       "</style>\n",
       "<table border=\"1\" class=\"dataframe\">\n",
       "  <thead>\n",
       "    <tr style=\"text-align: right;\">\n",
       "      <th></th>\n",
       "      <th>Marketing Spend</th>\n",
       "      <th>Administration</th>\n",
       "      <th>Transport</th>\n",
       "      <th>Area</th>\n",
       "      <th>Profit</th>\n",
       "    </tr>\n",
       "  </thead>\n",
       "  <tbody>\n",
       "    <tr>\n",
       "      <th>0</th>\n",
       "      <td>114523.61</td>\n",
       "      <td>136897.80</td>\n",
       "      <td>471784.10</td>\n",
       "      <td>Dhaka</td>\n",
       "      <td>192261.83</td>\n",
       "    </tr>\n",
       "    <tr>\n",
       "      <th>1</th>\n",
       "      <td>162597.70</td>\n",
       "      <td>151377.59</td>\n",
       "      <td>443898.53</td>\n",
       "      <td>Ctg</td>\n",
       "      <td>191792.06</td>\n",
       "    </tr>\n",
       "    <tr>\n",
       "      <th>2</th>\n",
       "      <td>153441.51</td>\n",
       "      <td>101145.55</td>\n",
       "      <td>407934.54</td>\n",
       "      <td>Rangpur</td>\n",
       "      <td>191050.39</td>\n",
       "    </tr>\n",
       "    <tr>\n",
       "      <th>3</th>\n",
       "      <td>144372.41</td>\n",
       "      <td>118671.85</td>\n",
       "      <td>383199.62</td>\n",
       "      <td>Dhaka</td>\n",
       "      <td>182901.99</td>\n",
       "    </tr>\n",
       "    <tr>\n",
       "      <th>4</th>\n",
       "      <td>142107.34</td>\n",
       "      <td>91391.77</td>\n",
       "      <td>366168.42</td>\n",
       "      <td>Rangpur</td>\n",
       "      <td>166187.94</td>\n",
       "    </tr>\n",
       "  </tbody>\n",
       "</table>\n",
       "</div>"
      ],
      "text/plain": [
       "   Marketing Spend  Administration  Transport     Area     Profit\n",
       "0        114523.61       136897.80  471784.10    Dhaka  192261.83\n",
       "1        162597.70       151377.59  443898.53      Ctg  191792.06\n",
       "2        153441.51       101145.55  407934.54  Rangpur  191050.39\n",
       "3        144372.41       118671.85  383199.62    Dhaka  182901.99\n",
       "4        142107.34        91391.77  366168.42  Rangpur  166187.94"
      ]
     },
     "execution_count": 8,
     "metadata": {},
     "output_type": "execute_result"
    }
   ],
   "source": [
    "df.head()"
   ]
  },
  {
   "cell_type": "code",
   "execution_count": 9,
   "id": "2f46a119",
   "metadata": {},
   "outputs": [],
   "source": [
    "df[['Marketing_Spend_New']] = m.transform(df[['Marketing Spend']])"
   ]
  },
  {
   "cell_type": "markdown",
   "id": "e8ceba3f",
   "metadata": {},
   "source": [
    "In this part we transform values and replace into new column"
   ]
  },
  {
   "cell_type": "code",
   "execution_count": 10,
   "id": "1df20c7f",
   "metadata": {},
   "outputs": [
    {
     "data": {
      "text/html": [
       "<div>\n",
       "<style scoped>\n",
       "    .dataframe tbody tr th:only-of-type {\n",
       "        vertical-align: middle;\n",
       "    }\n",
       "\n",
       "    .dataframe tbody tr th {\n",
       "        vertical-align: top;\n",
       "    }\n",
       "\n",
       "    .dataframe thead th {\n",
       "        text-align: right;\n",
       "    }\n",
       "</style>\n",
       "<table border=\"1\" class=\"dataframe\">\n",
       "  <thead>\n",
       "    <tr style=\"text-align: right;\">\n",
       "      <th></th>\n",
       "      <th>Marketing Spend</th>\n",
       "      <th>Administration</th>\n",
       "      <th>Transport</th>\n",
       "      <th>Area</th>\n",
       "      <th>Profit</th>\n",
       "      <th>Marketing_Spend_New</th>\n",
       "    </tr>\n",
       "  </thead>\n",
       "  <tbody>\n",
       "    <tr>\n",
       "      <th>0</th>\n",
       "      <td>114523.61</td>\n",
       "      <td>136897.80</td>\n",
       "      <td>471784.10</td>\n",
       "      <td>Dhaka</td>\n",
       "      <td>192261.83</td>\n",
       "      <td>0.692617</td>\n",
       "    </tr>\n",
       "    <tr>\n",
       "      <th>1</th>\n",
       "      <td>162597.70</td>\n",
       "      <td>151377.59</td>\n",
       "      <td>443898.53</td>\n",
       "      <td>Ctg</td>\n",
       "      <td>191792.06</td>\n",
       "      <td>0.983359</td>\n",
       "    </tr>\n",
       "    <tr>\n",
       "      <th>2</th>\n",
       "      <td>153441.51</td>\n",
       "      <td>101145.55</td>\n",
       "      <td>407934.54</td>\n",
       "      <td>Rangpur</td>\n",
       "      <td>191050.39</td>\n",
       "      <td>0.927985</td>\n",
       "    </tr>\n",
       "    <tr>\n",
       "      <th>3</th>\n",
       "      <td>144372.41</td>\n",
       "      <td>118671.85</td>\n",
       "      <td>383199.62</td>\n",
       "      <td>Dhaka</td>\n",
       "      <td>182901.99</td>\n",
       "      <td>0.873136</td>\n",
       "    </tr>\n",
       "    <tr>\n",
       "      <th>4</th>\n",
       "      <td>142107.34</td>\n",
       "      <td>91391.77</td>\n",
       "      <td>366168.42</td>\n",
       "      <td>Rangpur</td>\n",
       "      <td>166187.94</td>\n",
       "      <td>0.859438</td>\n",
       "    </tr>\n",
       "  </tbody>\n",
       "</table>\n",
       "</div>"
      ],
      "text/plain": [
       "   Marketing Spend  Administration  Transport     Area     Profit  \\\n",
       "0        114523.61       136897.80  471784.10    Dhaka  192261.83   \n",
       "1        162597.70       151377.59  443898.53      Ctg  191792.06   \n",
       "2        153441.51       101145.55  407934.54  Rangpur  191050.39   \n",
       "3        144372.41       118671.85  383199.62    Dhaka  182901.99   \n",
       "4        142107.34        91391.77  366168.42  Rangpur  166187.94   \n",
       "\n",
       "   Marketing_Spend_New  \n",
       "0             0.692617  \n",
       "1             0.983359  \n",
       "2             0.927985  \n",
       "3             0.873136  \n",
       "4             0.859438  "
      ]
     },
     "execution_count": 10,
     "metadata": {},
     "output_type": "execute_result"
    }
   ],
   "source": [
    "df.head()"
   ]
  },
  {
   "cell_type": "code",
   "execution_count": 12,
   "id": "eac3eec9",
   "metadata": {},
   "outputs": [
    {
     "data": {
      "text/html": [
       "<div>\n",
       "<style scoped>\n",
       "    .dataframe tbody tr th:only-of-type {\n",
       "        vertical-align: middle;\n",
       "    }\n",
       "\n",
       "    .dataframe tbody tr th {\n",
       "        vertical-align: top;\n",
       "    }\n",
       "\n",
       "    .dataframe thead th {\n",
       "        text-align: right;\n",
       "    }\n",
       "</style>\n",
       "<table border=\"1\" class=\"dataframe\">\n",
       "  <thead>\n",
       "    <tr style=\"text-align: right;\">\n",
       "      <th></th>\n",
       "      <th>Marketing Spend</th>\n",
       "      <th>Administration</th>\n",
       "      <th>Transport</th>\n",
       "      <th>Area</th>\n",
       "      <th>Profit</th>\n",
       "      <th>Marketing_Spend_New</th>\n",
       "    </tr>\n",
       "  </thead>\n",
       "  <tbody>\n",
       "    <tr>\n",
       "      <th>0</th>\n",
       "      <td>114523.61</td>\n",
       "      <td>0.651744</td>\n",
       "      <td>471784.10</td>\n",
       "      <td>Dhaka</td>\n",
       "      <td>192261.83</td>\n",
       "      <td>0.692617</td>\n",
       "    </tr>\n",
       "    <tr>\n",
       "      <th>1</th>\n",
       "      <td>162597.70</td>\n",
       "      <td>0.761972</td>\n",
       "      <td>443898.53</td>\n",
       "      <td>Ctg</td>\n",
       "      <td>191792.06</td>\n",
       "      <td>0.983359</td>\n",
       "    </tr>\n",
       "    <tr>\n",
       "      <th>2</th>\n",
       "      <td>153441.51</td>\n",
       "      <td>0.379579</td>\n",
       "      <td>407934.54</td>\n",
       "      <td>Rangpur</td>\n",
       "      <td>191050.39</td>\n",
       "      <td>0.927985</td>\n",
       "    </tr>\n",
       "    <tr>\n",
       "      <th>3</th>\n",
       "      <td>144372.41</td>\n",
       "      <td>0.512998</td>\n",
       "      <td>383199.62</td>\n",
       "      <td>Dhaka</td>\n",
       "      <td>182901.99</td>\n",
       "      <td>0.873136</td>\n",
       "    </tr>\n",
       "    <tr>\n",
       "      <th>4</th>\n",
       "      <td>142107.34</td>\n",
       "      <td>0.305328</td>\n",
       "      <td>366168.42</td>\n",
       "      <td>Rangpur</td>\n",
       "      <td>166187.94</td>\n",
       "      <td>0.859438</td>\n",
       "    </tr>\n",
       "  </tbody>\n",
       "</table>\n",
       "</div>"
      ],
      "text/plain": [
       "   Marketing Spend  Administration  Transport     Area     Profit  \\\n",
       "0        114523.61        0.651744  471784.10    Dhaka  192261.83   \n",
       "1        162597.70        0.761972  443898.53      Ctg  191792.06   \n",
       "2        153441.51        0.379579  407934.54  Rangpur  191050.39   \n",
       "3        144372.41        0.512998  383199.62    Dhaka  182901.99   \n",
       "4        142107.34        0.305328  366168.42  Rangpur  166187.94   \n",
       "\n",
       "   Marketing_Spend_New  \n",
       "0             0.692617  \n",
       "1             0.983359  \n",
       "2             0.927985  \n",
       "3             0.873136  \n",
       "4             0.859438  "
      ]
     },
     "execution_count": 12,
     "metadata": {},
     "output_type": "execute_result"
    }
   ],
   "source": [
    "df[['Administration']] = m.fit_transform(df[['Administration']])\n",
    "df.head()"
   ]
  },
  {
   "cell_type": "markdown",
   "id": "574c85dd",
   "metadata": {},
   "source": [
    "In this part we fit and transform"
   ]
  },
  {
   "cell_type": "markdown",
   "id": "f117e2f7",
   "metadata": {},
   "source": [
    "# Normalization (LOOP)"
   ]
  },
  {
   "cell_type": "code",
   "execution_count": 12,
   "id": "fc2ed74b",
   "metadata": {},
   "outputs": [],
   "source": [
    "target_variable = df2['Profit']"
   ]
  },
  {
   "cell_type": "markdown",
   "id": "b58aa283",
   "metadata": {},
   "source": [
    "Here DataFrame is 'df2' selecting 'Profit' column as the target variable"
   ]
  },
  {
   "cell_type": "code",
   "execution_count": 13,
   "id": "fdd864bd",
   "metadata": {},
   "outputs": [],
   "source": [
    "features = df2.drop('Profit', axis=1)"
   ]
  },
  {
   "cell_type": "markdown",
   "id": "fe73eeca",
   "metadata": {},
   "source": [
    "Dropping the 'Profit' column from the DataFrame 'df2'"
   ]
  },
  {
   "cell_type": "code",
   "execution_count": 14,
   "id": "03b240ef",
   "metadata": {},
   "outputs": [],
   "source": [
    "normalized_data = pd.DataFrame()"
   ]
  },
  {
   "cell_type": "code",
   "execution_count": 16,
   "id": "873e25ab",
   "metadata": {},
   "outputs": [
    {
     "name": "stdout",
     "output_type": "stream",
     "text": [
      "Column 'Area' is not numeric.\n"
     ]
    }
   ],
   "source": [
    "for column in features.columns: \n",
    "    \n",
    "    if pd.to_numeric(features[column], errors='coerce').notnull().any() or features[column].eq(0).any(): \n",
    "        m = MinMaxScaler()\n",
    "        normalized_column = m.fit_transform(features[column].values.reshape(-1, 1)) \n",
    "        normalized_data[column] = normalized_column.flatten()\n",
    "       \n",
    "    else:\n",
    "        print(f\"Column '{column}' is not numeric.\")\n",
    "       \n",
    "normalized_data['Profit'] = target_variable"
   ]
  },
  {
   "cell_type": "code",
   "execution_count": 17,
   "id": "28c6f54e",
   "metadata": {},
   "outputs": [
    {
     "name": "stdout",
     "output_type": "stream",
     "text": [
      "    Marketing Spend  Administration  Transport     Profit\n",
      "0          0.692617        0.651744   1.000000  192261.83\n",
      "1          0.983359        0.761972   0.940893  191792.06\n",
      "2          0.927985        0.379579   0.864664  191050.39\n",
      "3          0.873136        0.512998   0.812235  182901.99\n",
      "4          0.859438        0.305328   0.776136  166187.94\n",
      "5          0.797566        0.369448   0.769126  156991.12\n",
      "6          0.814128        0.730161   0.270710  156122.51\n",
      "7          0.788018        0.717457   0.686493  155752.60\n",
      "8          0.729018        0.741733   0.660500  152211.77\n",
      "9          0.745906        0.436929   0.646443  149759.96\n",
      "10         0.616351        0.451506   0.485733  146121.95\n",
      "11         0.608845        0.308364   0.529362  144259.40\n",
      "12         0.567670        0.578836   0.529563  141585.52\n",
      "13         0.556352        0.641066   0.535552  134307.35\n",
      "14         0.725394        0.801327   0.543708  132602.65\n",
      "15         1.000000        0.543030   0.554864  129917.04\n",
      "16         0.471808        0.535270   0.560312  126992.93\n",
      "17         0.572468        0.714013   0.598948  125370.37\n",
      "18         0.554881        0.478772   0.625116  124266.90\n",
      "19         0.522650        0.778236        NaN  122776.86\n",
      "20         0.461169        0.476424   0.633053  118474.03\n",
      "21         0.474084        0.780210   0.635327  111313.02\n",
      "22         0.447505        0.544293   0.642920  110352.25\n",
      "23         0.408424        0.414638   0.645992  108733.99\n",
      "24         0.465947        0.365388   0.297964  108552.04\n",
      "25         0.391080        0.671958   0.292427  107404.34\n",
      "26         0.455574        0.706845   0.284134  105733.54\n",
      "27         0.436093        0.582978   0.748613  105008.31\n",
      "28         0.399467        1.000000   0.250429  103282.38\n",
      "29         0.396769        0.774566   0.227092  101004.64\n",
      "30         0.374931        0.489928   0.193163   99937.59\n",
      "31         0.369741        0.772053   0.186989   97483.56\n",
      "32         0.383485        0.593294   0.097683   97427.84\n",
      "33         0.335617        0.394134   0.454943   96778.92\n",
      "34         0.280776        0.810055   0.446810   96712.80\n",
      "35         0.278284        0.257032   0.435618   96479.51\n",
      "36         0.173353        0.576825   0.426311   90708.19\n",
      "37         0.266527        0.000000   0.417626   89949.14\n",
      "38         0.122345        0.111636   0.392690   81229.06\n",
      "39         0.233194        0.241309   0.370931   81005.76\n",
      "40         0.173901        0.512041   0.366260   78239.91\n",
      "41         0.168691        0.254469   0.348614   77798.83\n",
      "42         0.142976        0.341852   0.313705   71498.49\n",
      "43         0.093776        0.579307   0.075319   69758.98\n",
      "44         0.134127        0.788072   0.060059   65200.33\n",
      "45         0.006049        0.554724   0.004036   64926.08\n",
      "46         0.007956        0.491260   0.629768   49490.75\n",
      "47         0.000000        0.640547   0.000000   42559.73\n",
      "48         0.003278        0.003502   0.000000   35673.41\n",
      "49         0.000000        0.500148   0.095749   14681.40\n"
     ]
    }
   ],
   "source": [
    "print(normalized_data)"
   ]
  },
  {
   "cell_type": "markdown",
   "id": "cdc93725",
   "metadata": {},
   "source": [
    "# Standardization"
   ]
  },
  {
   "cell_type": "code",
   "execution_count": 18,
   "id": "188f1c33",
   "metadata": {},
   "outputs": [],
   "source": [
    "from sklearn.preprocessing import StandardScaler\n",
    "scaler=StandardScaler()"
   ]
  },
  {
   "cell_type": "code",
   "execution_count": 19,
   "id": "c216f9b7",
   "metadata": {},
   "outputs": [],
   "source": [
    "df_ss=scaler.fit(df3[['Marketing Spend']]) #Calculation everything"
   ]
  },
  {
   "cell_type": "code",
   "execution_count": 20,
   "id": "39651160",
   "metadata": {},
   "outputs": [
    {
     "data": {
      "text/html": [
       "<style>#sk-container-id-2 {color: black;background-color: white;}#sk-container-id-2 pre{padding: 0;}#sk-container-id-2 div.sk-toggleable {background-color: white;}#sk-container-id-2 label.sk-toggleable__label {cursor: pointer;display: block;width: 100%;margin-bottom: 0;padding: 0.3em;box-sizing: border-box;text-align: center;}#sk-container-id-2 label.sk-toggleable__label-arrow:before {content: \"▸\";float: left;margin-right: 0.25em;color: #696969;}#sk-container-id-2 label.sk-toggleable__label-arrow:hover:before {color: black;}#sk-container-id-2 div.sk-estimator:hover label.sk-toggleable__label-arrow:before {color: black;}#sk-container-id-2 div.sk-toggleable__content {max-height: 0;max-width: 0;overflow: hidden;text-align: left;background-color: #f0f8ff;}#sk-container-id-2 div.sk-toggleable__content pre {margin: 0.2em;color: black;border-radius: 0.25em;background-color: #f0f8ff;}#sk-container-id-2 input.sk-toggleable__control:checked~div.sk-toggleable__content {max-height: 200px;max-width: 100%;overflow: auto;}#sk-container-id-2 input.sk-toggleable__control:checked~label.sk-toggleable__label-arrow:before {content: \"▾\";}#sk-container-id-2 div.sk-estimator input.sk-toggleable__control:checked~label.sk-toggleable__label {background-color: #d4ebff;}#sk-container-id-2 div.sk-label input.sk-toggleable__control:checked~label.sk-toggleable__label {background-color: #d4ebff;}#sk-container-id-2 input.sk-hidden--visually {border: 0;clip: rect(1px 1px 1px 1px);clip: rect(1px, 1px, 1px, 1px);height: 1px;margin: -1px;overflow: hidden;padding: 0;position: absolute;width: 1px;}#sk-container-id-2 div.sk-estimator {font-family: monospace;background-color: #f0f8ff;border: 1px dotted black;border-radius: 0.25em;box-sizing: border-box;margin-bottom: 0.5em;}#sk-container-id-2 div.sk-estimator:hover {background-color: #d4ebff;}#sk-container-id-2 div.sk-parallel-item::after {content: \"\";width: 100%;border-bottom: 1px solid gray;flex-grow: 1;}#sk-container-id-2 div.sk-label:hover label.sk-toggleable__label {background-color: #d4ebff;}#sk-container-id-2 div.sk-serial::before {content: \"\";position: absolute;border-left: 1px solid gray;box-sizing: border-box;top: 0;bottom: 0;left: 50%;z-index: 0;}#sk-container-id-2 div.sk-serial {display: flex;flex-direction: column;align-items: center;background-color: white;padding-right: 0.2em;padding-left: 0.2em;position: relative;}#sk-container-id-2 div.sk-item {position: relative;z-index: 1;}#sk-container-id-2 div.sk-parallel {display: flex;align-items: stretch;justify-content: center;background-color: white;position: relative;}#sk-container-id-2 div.sk-item::before, #sk-container-id-2 div.sk-parallel-item::before {content: \"\";position: absolute;border-left: 1px solid gray;box-sizing: border-box;top: 0;bottom: 0;left: 50%;z-index: -1;}#sk-container-id-2 div.sk-parallel-item {display: flex;flex-direction: column;z-index: 1;position: relative;background-color: white;}#sk-container-id-2 div.sk-parallel-item:first-child::after {align-self: flex-end;width: 50%;}#sk-container-id-2 div.sk-parallel-item:last-child::after {align-self: flex-start;width: 50%;}#sk-container-id-2 div.sk-parallel-item:only-child::after {width: 0;}#sk-container-id-2 div.sk-dashed-wrapped {border: 1px dashed gray;margin: 0 0.4em 0.5em 0.4em;box-sizing: border-box;padding-bottom: 0.4em;background-color: white;}#sk-container-id-2 div.sk-label label {font-family: monospace;font-weight: bold;display: inline-block;line-height: 1.2em;}#sk-container-id-2 div.sk-label-container {text-align: center;}#sk-container-id-2 div.sk-container {/* jupyter's `normalize.less` sets `[hidden] { display: none; }` but bootstrap.min.css set `[hidden] { display: none !important; }` so we also need the `!important` here to be able to override the default hidden behavior on the sphinx rendered scikit-learn.org. See: https://github.com/scikit-learn/scikit-learn/issues/21755 */display: inline-block !important;position: relative;}#sk-container-id-2 div.sk-text-repr-fallback {display: none;}</style><div id=\"sk-container-id-2\" class=\"sk-top-container\"><div class=\"sk-text-repr-fallback\"><pre>StandardScaler()</pre><b>In a Jupyter environment, please rerun this cell to show the HTML representation or trust the notebook. <br />On GitHub, the HTML representation is unable to render, please try loading this page with nbviewer.org.</b></div><div class=\"sk-container\" hidden><div class=\"sk-item\"><div class=\"sk-estimator sk-toggleable\"><input class=\"sk-toggleable__control sk-hidden--visually\" id=\"sk-estimator-id-2\" type=\"checkbox\" checked><label for=\"sk-estimator-id-2\" class=\"sk-toggleable__label sk-toggleable__label-arrow\">StandardScaler</label><div class=\"sk-toggleable__content\"><pre>StandardScaler()</pre></div></div></div></div></div>"
      ],
      "text/plain": [
       "StandardScaler()"
      ]
     },
     "execution_count": 20,
     "metadata": {},
     "output_type": "execute_result"
    }
   ],
   "source": [
    "df_ss"
   ]
  },
  {
   "cell_type": "code",
   "execution_count": 21,
   "id": "abcd3726",
   "metadata": {},
   "outputs": [
    {
     "data": {
      "text/html": [
       "<div>\n",
       "<style scoped>\n",
       "    .dataframe tbody tr th:only-of-type {\n",
       "        vertical-align: middle;\n",
       "    }\n",
       "\n",
       "    .dataframe tbody tr th {\n",
       "        vertical-align: top;\n",
       "    }\n",
       "\n",
       "    .dataframe thead th {\n",
       "        text-align: right;\n",
       "    }\n",
       "</style>\n",
       "<table border=\"1\" class=\"dataframe\">\n",
       "  <thead>\n",
       "    <tr style=\"text-align: right;\">\n",
       "      <th></th>\n",
       "      <th>Marketing Spend</th>\n",
       "      <th>Administration</th>\n",
       "      <th>Transport</th>\n",
       "      <th>Area</th>\n",
       "      <th>Profit</th>\n",
       "    </tr>\n",
       "  </thead>\n",
       "  <tbody>\n",
       "    <tr>\n",
       "      <th>0</th>\n",
       "      <td>114523.61</td>\n",
       "      <td>136897.80</td>\n",
       "      <td>471784.10</td>\n",
       "      <td>Dhaka</td>\n",
       "      <td>192261.83</td>\n",
       "    </tr>\n",
       "    <tr>\n",
       "      <th>1</th>\n",
       "      <td>162597.70</td>\n",
       "      <td>151377.59</td>\n",
       "      <td>443898.53</td>\n",
       "      <td>Ctg</td>\n",
       "      <td>191792.06</td>\n",
       "    </tr>\n",
       "    <tr>\n",
       "      <th>2</th>\n",
       "      <td>153441.51</td>\n",
       "      <td>101145.55</td>\n",
       "      <td>407934.54</td>\n",
       "      <td>Rangpur</td>\n",
       "      <td>191050.39</td>\n",
       "    </tr>\n",
       "    <tr>\n",
       "      <th>3</th>\n",
       "      <td>144372.41</td>\n",
       "      <td>118671.85</td>\n",
       "      <td>383199.62</td>\n",
       "      <td>Dhaka</td>\n",
       "      <td>182901.99</td>\n",
       "    </tr>\n",
       "    <tr>\n",
       "      <th>4</th>\n",
       "      <td>142107.34</td>\n",
       "      <td>91391.77</td>\n",
       "      <td>366168.42</td>\n",
       "      <td>Rangpur</td>\n",
       "      <td>166187.94</td>\n",
       "    </tr>\n",
       "  </tbody>\n",
       "</table>\n",
       "</div>"
      ],
      "text/plain": [
       "   Marketing Spend  Administration  Transport     Area     Profit\n",
       "0        114523.61       136897.80  471784.10    Dhaka  192261.83\n",
       "1        162597.70       151377.59  443898.53      Ctg  191792.06\n",
       "2        153441.51       101145.55  407934.54  Rangpur  191050.39\n",
       "3        144372.41       118671.85  383199.62    Dhaka  182901.99\n",
       "4        142107.34        91391.77  366168.42  Rangpur  166187.94"
      ]
     },
     "execution_count": 21,
     "metadata": {},
     "output_type": "execute_result"
    }
   ],
   "source": [
    "df3.head()"
   ]
  },
  {
   "cell_type": "code",
   "execution_count": 22,
   "id": "be425e7e",
   "metadata": {},
   "outputs": [],
   "source": [
    "df3[['Marketing Spend New']] = scaler.transform(df3[['Marketing Spend']])"
   ]
  },
  {
   "cell_type": "markdown",
   "id": "1481c1d9",
   "metadata": {},
   "source": [
    "In this part we transform values and replace into new column"
   ]
  },
  {
   "cell_type": "code",
   "execution_count": 23,
   "id": "4b06baad",
   "metadata": {},
   "outputs": [
    {
     "data": {
      "text/html": [
       "<div>\n",
       "<style scoped>\n",
       "    .dataframe tbody tr th:only-of-type {\n",
       "        vertical-align: middle;\n",
       "    }\n",
       "\n",
       "    .dataframe tbody tr th {\n",
       "        vertical-align: top;\n",
       "    }\n",
       "\n",
       "    .dataframe thead th {\n",
       "        text-align: right;\n",
       "    }\n",
       "</style>\n",
       "<table border=\"1\" class=\"dataframe\">\n",
       "  <thead>\n",
       "    <tr style=\"text-align: right;\">\n",
       "      <th></th>\n",
       "      <th>Marketing Spend</th>\n",
       "      <th>Administration</th>\n",
       "      <th>Transport</th>\n",
       "      <th>Area</th>\n",
       "      <th>Profit</th>\n",
       "      <th>Marketing Spend New</th>\n",
       "    </tr>\n",
       "  </thead>\n",
       "  <tbody>\n",
       "    <tr>\n",
       "      <th>0</th>\n",
       "      <td>114523.61</td>\n",
       "      <td>136897.80</td>\n",
       "      <td>471784.10</td>\n",
       "      <td>Dhaka</td>\n",
       "      <td>192261.83</td>\n",
       "      <td>0.897913</td>\n",
       "    </tr>\n",
       "    <tr>\n",
       "      <th>1</th>\n",
       "      <td>162597.70</td>\n",
       "      <td>151377.59</td>\n",
       "      <td>443898.53</td>\n",
       "      <td>Ctg</td>\n",
       "      <td>191792.06</td>\n",
       "      <td>1.955860</td>\n",
       "    </tr>\n",
       "    <tr>\n",
       "      <th>2</th>\n",
       "      <td>153441.51</td>\n",
       "      <td>101145.55</td>\n",
       "      <td>407934.54</td>\n",
       "      <td>Rangpur</td>\n",
       "      <td>191050.39</td>\n",
       "      <td>1.754364</td>\n",
       "    </tr>\n",
       "    <tr>\n",
       "      <th>3</th>\n",
       "      <td>144372.41</td>\n",
       "      <td>118671.85</td>\n",
       "      <td>383199.62</td>\n",
       "      <td>Dhaka</td>\n",
       "      <td>182901.99</td>\n",
       "      <td>1.554784</td>\n",
       "    </tr>\n",
       "    <tr>\n",
       "      <th>4</th>\n",
       "      <td>142107.34</td>\n",
       "      <td>91391.77</td>\n",
       "      <td>366168.42</td>\n",
       "      <td>Rangpur</td>\n",
       "      <td>166187.94</td>\n",
       "      <td>1.504937</td>\n",
       "    </tr>\n",
       "  </tbody>\n",
       "</table>\n",
       "</div>"
      ],
      "text/plain": [
       "   Marketing Spend  Administration  Transport     Area     Profit  \\\n",
       "0        114523.61       136897.80  471784.10    Dhaka  192261.83   \n",
       "1        162597.70       151377.59  443898.53      Ctg  191792.06   \n",
       "2        153441.51       101145.55  407934.54  Rangpur  191050.39   \n",
       "3        144372.41       118671.85  383199.62    Dhaka  182901.99   \n",
       "4        142107.34        91391.77  366168.42  Rangpur  166187.94   \n",
       "\n",
       "   Marketing Spend New  \n",
       "0             0.897913  \n",
       "1             1.955860  \n",
       "2             1.754364  \n",
       "3             1.554784  \n",
       "4             1.504937  "
      ]
     },
     "execution_count": 23,
     "metadata": {},
     "output_type": "execute_result"
    }
   ],
   "source": [
    "df3.head()"
   ]
  },
  {
   "cell_type": "code",
   "execution_count": 24,
   "id": "aa326c77",
   "metadata": {},
   "outputs": [],
   "source": [
    "df3[['Administration']] = scaler.fit_transform(df3[['Administration']])"
   ]
  },
  {
   "cell_type": "code",
   "execution_count": 25,
   "id": "ca4feb70",
   "metadata": {},
   "outputs": [
    {
     "data": {
      "text/html": [
       "<div>\n",
       "<style scoped>\n",
       "    .dataframe tbody tr th:only-of-type {\n",
       "        vertical-align: middle;\n",
       "    }\n",
       "\n",
       "    .dataframe tbody tr th {\n",
       "        vertical-align: top;\n",
       "    }\n",
       "\n",
       "    .dataframe thead th {\n",
       "        text-align: right;\n",
       "    }\n",
       "</style>\n",
       "<table border=\"1\" class=\"dataframe\">\n",
       "  <thead>\n",
       "    <tr style=\"text-align: right;\">\n",
       "      <th></th>\n",
       "      <th>Marketing Spend</th>\n",
       "      <th>Administration</th>\n",
       "      <th>Transport</th>\n",
       "      <th>Area</th>\n",
       "      <th>Profit</th>\n",
       "      <th>Marketing Spend New</th>\n",
       "    </tr>\n",
       "  </thead>\n",
       "  <tbody>\n",
       "    <tr>\n",
       "      <th>0</th>\n",
       "      <td>114523.61</td>\n",
       "      <td>0.560753</td>\n",
       "      <td>471784.10</td>\n",
       "      <td>Dhaka</td>\n",
       "      <td>192261.83</td>\n",
       "      <td>0.897913</td>\n",
       "    </tr>\n",
       "    <tr>\n",
       "      <th>1</th>\n",
       "      <td>162597.70</td>\n",
       "      <td>1.082807</td>\n",
       "      <td>443898.53</td>\n",
       "      <td>Ctg</td>\n",
       "      <td>191792.06</td>\n",
       "      <td>1.955860</td>\n",
       "    </tr>\n",
       "    <tr>\n",
       "      <th>2</th>\n",
       "      <td>153441.51</td>\n",
       "      <td>-0.728257</td>\n",
       "      <td>407934.54</td>\n",
       "      <td>Rangpur</td>\n",
       "      <td>191050.39</td>\n",
       "      <td>1.754364</td>\n",
       "    </tr>\n",
       "    <tr>\n",
       "      <th>3</th>\n",
       "      <td>144372.41</td>\n",
       "      <td>-0.096365</td>\n",
       "      <td>383199.62</td>\n",
       "      <td>Dhaka</td>\n",
       "      <td>182901.99</td>\n",
       "      <td>1.554784</td>\n",
       "    </tr>\n",
       "    <tr>\n",
       "      <th>4</th>\n",
       "      <td>142107.34</td>\n",
       "      <td>-1.079919</td>\n",
       "      <td>366168.42</td>\n",
       "      <td>Rangpur</td>\n",
       "      <td>166187.94</td>\n",
       "      <td>1.504937</td>\n",
       "    </tr>\n",
       "  </tbody>\n",
       "</table>\n",
       "</div>"
      ],
      "text/plain": [
       "   Marketing Spend  Administration  Transport     Area     Profit  \\\n",
       "0        114523.61        0.560753  471784.10    Dhaka  192261.83   \n",
       "1        162597.70        1.082807  443898.53      Ctg  191792.06   \n",
       "2        153441.51       -0.728257  407934.54  Rangpur  191050.39   \n",
       "3        144372.41       -0.096365  383199.62    Dhaka  182901.99   \n",
       "4        142107.34       -1.079919  366168.42  Rangpur  166187.94   \n",
       "\n",
       "   Marketing Spend New  \n",
       "0             0.897913  \n",
       "1             1.955860  \n",
       "2             1.754364  \n",
       "3             1.554784  \n",
       "4             1.504937  "
      ]
     },
     "execution_count": 25,
     "metadata": {},
     "output_type": "execute_result"
    }
   ],
   "source": [
    "df3.head()"
   ]
  },
  {
   "cell_type": "markdown",
   "id": "3b5d8155",
   "metadata": {},
   "source": [
    "In this part we fit and transform"
   ]
  },
  {
   "cell_type": "markdown",
   "id": "47847c22",
   "metadata": {},
   "source": [
    "# Standardization (LOOP)"
   ]
  },
  {
   "cell_type": "code",
   "execution_count": 26,
   "id": "66d1c14f",
   "metadata": {},
   "outputs": [],
   "source": [
    "target_variable = df4['Profit']"
   ]
  },
  {
   "cell_type": "markdown",
   "id": "16ab226b",
   "metadata": {},
   "source": [
    "Here DataFrame is 'df2' selecting 'Profit' column as the target variable"
   ]
  },
  {
   "cell_type": "code",
   "execution_count": 27,
   "id": "44020c22",
   "metadata": {},
   "outputs": [],
   "source": [
    "features = df4.drop('Profit', axis=1) "
   ]
  },
  {
   "cell_type": "markdown",
   "id": "953d0a9d",
   "metadata": {},
   "source": [
    "Dropping the 'Profit' column from the DataFrame 'df2'"
   ]
  },
  {
   "cell_type": "code",
   "execution_count": 28,
   "id": "26446b38",
   "metadata": {},
   "outputs": [],
   "source": [
    "normalized_data = pd.DataFrame()"
   ]
  },
  {
   "cell_type": "code",
   "execution_count": 29,
   "id": "66c990a5",
   "metadata": {},
   "outputs": [
    {
     "name": "stdout",
     "output_type": "stream",
     "text": [
      "Column 'Area' is not numeric.\n"
     ]
    }
   ],
   "source": [
    "for column in features.columns:\n",
    "    if pd.to_numeric(features[column], errors='coerce').notnull().any() or features[column].eq(0).any():\n",
    "        scaler = StandardScaler()\n",
    "        normalized_column = m.fit_transform(features[column].values.reshape(-1, 1)) \n",
    "        normalized_data[column] = normalized_column.flatten()\n",
    "    \n",
    "    else:\n",
    "        print(f\"Column '{column}' is not numeric.\")\n",
    "      \n",
    "normalized_data['Profit'] = target_variable"
   ]
  },
  {
   "cell_type": "code",
   "execution_count": 30,
   "id": "2abaae93",
   "metadata": {},
   "outputs": [
    {
     "name": "stdout",
     "output_type": "stream",
     "text": [
      "    Marketing Spend  Administration  Transport     Profit\n",
      "0          0.692617        0.651744   1.000000  192261.83\n",
      "1          0.983359        0.761972   0.940893  191792.06\n",
      "2          0.927985        0.379579   0.864664  191050.39\n",
      "3          0.873136        0.512998   0.812235  182901.99\n",
      "4          0.859438        0.305328   0.776136  166187.94\n",
      "5          0.797566        0.369448   0.769126  156991.12\n",
      "6          0.814128        0.730161   0.270710  156122.51\n",
      "7          0.788018        0.717457   0.686493  155752.60\n",
      "8          0.729018        0.741733   0.660500  152211.77\n",
      "9          0.745906        0.436929   0.646443  149759.96\n",
      "10         0.616351        0.451506   0.485733  146121.95\n",
      "11         0.608845        0.308364   0.529362  144259.40\n",
      "12         0.567670        0.578836   0.529563  141585.52\n",
      "13         0.556352        0.641066   0.535552  134307.35\n",
      "14         0.725394        0.801327   0.543708  132602.65\n",
      "15         1.000000        0.543030   0.554864  129917.04\n",
      "16         0.471808        0.535270   0.560312  126992.93\n",
      "17         0.572468        0.714013   0.598948  125370.37\n",
      "18         0.554881        0.478772   0.625116  124266.90\n",
      "19         0.522650        0.778236        NaN  122776.86\n",
      "20         0.461169        0.476424   0.633053  118474.03\n",
      "21         0.474084        0.780210   0.635327  111313.02\n",
      "22         0.447505        0.544293   0.642920  110352.25\n",
      "23         0.408424        0.414638   0.645992  108733.99\n",
      "24         0.465947        0.365388   0.297964  108552.04\n",
      "25         0.391080        0.671958   0.292427  107404.34\n",
      "26         0.455574        0.706845   0.284134  105733.54\n",
      "27         0.436093        0.582978   0.748613  105008.31\n",
      "28         0.399467        1.000000   0.250429  103282.38\n",
      "29         0.396769        0.774566   0.227092  101004.64\n",
      "30         0.374931        0.489928   0.193163   99937.59\n",
      "31         0.369741        0.772053   0.186989   97483.56\n",
      "32         0.383485        0.593294   0.097683   97427.84\n",
      "33         0.335617        0.394134   0.454943   96778.92\n",
      "34         0.280776        0.810055   0.446810   96712.80\n",
      "35         0.278284        0.257032   0.435618   96479.51\n",
      "36         0.173353        0.576825   0.426311   90708.19\n",
      "37         0.266527        0.000000   0.417626   89949.14\n",
      "38         0.122345        0.111636   0.392690   81229.06\n",
      "39         0.233194        0.241309   0.370931   81005.76\n",
      "40         0.173901        0.512041   0.366260   78239.91\n",
      "41         0.168691        0.254469   0.348614   77798.83\n",
      "42         0.142976        0.341852   0.313705   71498.49\n",
      "43         0.093776        0.579307   0.075319   69758.98\n",
      "44         0.134127        0.788072   0.060059   65200.33\n",
      "45         0.006049        0.554724   0.004036   64926.08\n",
      "46         0.007956        0.491260   0.629768   49490.75\n",
      "47         0.000000        0.640547   0.000000   42559.73\n",
      "48         0.003278        0.003502   0.000000   35673.41\n",
      "49         0.000000        0.500148   0.095749   14681.40\n"
     ]
    }
   ],
   "source": [
    "print(normalized_data)"
   ]
  },
  {
   "cell_type": "markdown",
   "id": "21dfaa7b",
   "metadata": {},
   "source": [
    "# Log Transformation"
   ]
  },
  {
   "cell_type": "code",
   "execution_count": 35,
   "id": "01f3bc8a",
   "metadata": {},
   "outputs": [],
   "source": [
    "from sklearn.preprocessing import FunctionTransformer\n",
    "ft = FunctionTransformer(np.log1p) #np.log1p will avoid 0"
   ]
  },
  {
   "cell_type": "code",
   "execution_count": 36,
   "id": "bbc6e87a",
   "metadata": {},
   "outputs": [
    {
     "data": {
      "text/html": [
       "<style>#sk-container-id-4 {color: black;background-color: white;}#sk-container-id-4 pre{padding: 0;}#sk-container-id-4 div.sk-toggleable {background-color: white;}#sk-container-id-4 label.sk-toggleable__label {cursor: pointer;display: block;width: 100%;margin-bottom: 0;padding: 0.3em;box-sizing: border-box;text-align: center;}#sk-container-id-4 label.sk-toggleable__label-arrow:before {content: \"▸\";float: left;margin-right: 0.25em;color: #696969;}#sk-container-id-4 label.sk-toggleable__label-arrow:hover:before {color: black;}#sk-container-id-4 div.sk-estimator:hover label.sk-toggleable__label-arrow:before {color: black;}#sk-container-id-4 div.sk-toggleable__content {max-height: 0;max-width: 0;overflow: hidden;text-align: left;background-color: #f0f8ff;}#sk-container-id-4 div.sk-toggleable__content pre {margin: 0.2em;color: black;border-radius: 0.25em;background-color: #f0f8ff;}#sk-container-id-4 input.sk-toggleable__control:checked~div.sk-toggleable__content {max-height: 200px;max-width: 100%;overflow: auto;}#sk-container-id-4 input.sk-toggleable__control:checked~label.sk-toggleable__label-arrow:before {content: \"▾\";}#sk-container-id-4 div.sk-estimator input.sk-toggleable__control:checked~label.sk-toggleable__label {background-color: #d4ebff;}#sk-container-id-4 div.sk-label input.sk-toggleable__control:checked~label.sk-toggleable__label {background-color: #d4ebff;}#sk-container-id-4 input.sk-hidden--visually {border: 0;clip: rect(1px 1px 1px 1px);clip: rect(1px, 1px, 1px, 1px);height: 1px;margin: -1px;overflow: hidden;padding: 0;position: absolute;width: 1px;}#sk-container-id-4 div.sk-estimator {font-family: monospace;background-color: #f0f8ff;border: 1px dotted black;border-radius: 0.25em;box-sizing: border-box;margin-bottom: 0.5em;}#sk-container-id-4 div.sk-estimator:hover {background-color: #d4ebff;}#sk-container-id-4 div.sk-parallel-item::after {content: \"\";width: 100%;border-bottom: 1px solid gray;flex-grow: 1;}#sk-container-id-4 div.sk-label:hover label.sk-toggleable__label {background-color: #d4ebff;}#sk-container-id-4 div.sk-serial::before {content: \"\";position: absolute;border-left: 1px solid gray;box-sizing: border-box;top: 0;bottom: 0;left: 50%;z-index: 0;}#sk-container-id-4 div.sk-serial {display: flex;flex-direction: column;align-items: center;background-color: white;padding-right: 0.2em;padding-left: 0.2em;position: relative;}#sk-container-id-4 div.sk-item {position: relative;z-index: 1;}#sk-container-id-4 div.sk-parallel {display: flex;align-items: stretch;justify-content: center;background-color: white;position: relative;}#sk-container-id-4 div.sk-item::before, #sk-container-id-4 div.sk-parallel-item::before {content: \"\";position: absolute;border-left: 1px solid gray;box-sizing: border-box;top: 0;bottom: 0;left: 50%;z-index: -1;}#sk-container-id-4 div.sk-parallel-item {display: flex;flex-direction: column;z-index: 1;position: relative;background-color: white;}#sk-container-id-4 div.sk-parallel-item:first-child::after {align-self: flex-end;width: 50%;}#sk-container-id-4 div.sk-parallel-item:last-child::after {align-self: flex-start;width: 50%;}#sk-container-id-4 div.sk-parallel-item:only-child::after {width: 0;}#sk-container-id-4 div.sk-dashed-wrapped {border: 1px dashed gray;margin: 0 0.4em 0.5em 0.4em;box-sizing: border-box;padding-bottom: 0.4em;background-color: white;}#sk-container-id-4 div.sk-label label {font-family: monospace;font-weight: bold;display: inline-block;line-height: 1.2em;}#sk-container-id-4 div.sk-label-container {text-align: center;}#sk-container-id-4 div.sk-container {/* jupyter's `normalize.less` sets `[hidden] { display: none; }` but bootstrap.min.css set `[hidden] { display: none !important; }` so we also need the `!important` here to be able to override the default hidden behavior on the sphinx rendered scikit-learn.org. See: https://github.com/scikit-learn/scikit-learn/issues/21755 */display: inline-block !important;position: relative;}#sk-container-id-4 div.sk-text-repr-fallback {display: none;}</style><div id=\"sk-container-id-4\" class=\"sk-top-container\"><div class=\"sk-text-repr-fallback\"><pre>FunctionTransformer(func=&lt;ufunc &#x27;log1p&#x27;&gt;)</pre><b>In a Jupyter environment, please rerun this cell to show the HTML representation or trust the notebook. <br />On GitHub, the HTML representation is unable to render, please try loading this page with nbviewer.org.</b></div><div class=\"sk-container\" hidden><div class=\"sk-item\"><div class=\"sk-estimator sk-toggleable\"><input class=\"sk-toggleable__control sk-hidden--visually\" id=\"sk-estimator-id-4\" type=\"checkbox\" checked><label for=\"sk-estimator-id-4\" class=\"sk-toggleable__label sk-toggleable__label-arrow\">FunctionTransformer</label><div class=\"sk-toggleable__content\"><pre>FunctionTransformer(func=&lt;ufunc &#x27;log1p&#x27;&gt;)</pre></div></div></div></div></div>"
      ],
      "text/plain": [
       "FunctionTransformer(func=<ufunc 'log1p'>)"
      ]
     },
     "execution_count": 36,
     "metadata": {},
     "output_type": "execute_result"
    }
   ],
   "source": [
    "df_lt=ft.fit(df5[['Marketing Spend']]) #Calculate everything\n",
    "df_lt"
   ]
  },
  {
   "cell_type": "code",
   "execution_count": 37,
   "id": "3770b4e5",
   "metadata": {},
   "outputs": [
    {
     "data": {
      "text/html": [
       "<div>\n",
       "<style scoped>\n",
       "    .dataframe tbody tr th:only-of-type {\n",
       "        vertical-align: middle;\n",
       "    }\n",
       "\n",
       "    .dataframe tbody tr th {\n",
       "        vertical-align: top;\n",
       "    }\n",
       "\n",
       "    .dataframe thead th {\n",
       "        text-align: right;\n",
       "    }\n",
       "</style>\n",
       "<table border=\"1\" class=\"dataframe\">\n",
       "  <thead>\n",
       "    <tr style=\"text-align: right;\">\n",
       "      <th></th>\n",
       "      <th>Marketing Spend</th>\n",
       "      <th>Administration</th>\n",
       "      <th>Transport</th>\n",
       "      <th>Area</th>\n",
       "      <th>Profit</th>\n",
       "    </tr>\n",
       "  </thead>\n",
       "  <tbody>\n",
       "    <tr>\n",
       "      <th>0</th>\n",
       "      <td>114523.61</td>\n",
       "      <td>136897.80</td>\n",
       "      <td>13.064279</td>\n",
       "      <td>Dhaka</td>\n",
       "      <td>192261.83</td>\n",
       "    </tr>\n",
       "    <tr>\n",
       "      <th>1</th>\n",
       "      <td>162597.70</td>\n",
       "      <td>151377.59</td>\n",
       "      <td>13.003354</td>\n",
       "      <td>Ctg</td>\n",
       "      <td>191792.06</td>\n",
       "    </tr>\n",
       "    <tr>\n",
       "      <th>2</th>\n",
       "      <td>153441.51</td>\n",
       "      <td>101145.55</td>\n",
       "      <td>12.918864</td>\n",
       "      <td>Rangpur</td>\n",
       "      <td>191050.39</td>\n",
       "    </tr>\n",
       "    <tr>\n",
       "      <th>3</th>\n",
       "      <td>144372.41</td>\n",
       "      <td>118671.85</td>\n",
       "      <td>12.856314</td>\n",
       "      <td>Dhaka</td>\n",
       "      <td>182901.99</td>\n",
       "    </tr>\n",
       "    <tr>\n",
       "      <th>4</th>\n",
       "      <td>142107.34</td>\n",
       "      <td>91391.77</td>\n",
       "      <td>12.810851</td>\n",
       "      <td>Rangpur</td>\n",
       "      <td>166187.94</td>\n",
       "    </tr>\n",
       "  </tbody>\n",
       "</table>\n",
       "</div>"
      ],
      "text/plain": [
       "   Marketing Spend  Administration  Transport     Area     Profit\n",
       "0        114523.61       136897.80  13.064279    Dhaka  192261.83\n",
       "1        162597.70       151377.59  13.003354      Ctg  191792.06\n",
       "2        153441.51       101145.55  12.918864  Rangpur  191050.39\n",
       "3        144372.41       118671.85  12.856314    Dhaka  182901.99\n",
       "4        142107.34        91391.77  12.810851  Rangpur  166187.94"
      ]
     },
     "execution_count": 37,
     "metadata": {},
     "output_type": "execute_result"
    }
   ],
   "source": [
    "df5.head()"
   ]
  },
  {
   "cell_type": "code",
   "execution_count": 38,
   "id": "b32ab614",
   "metadata": {},
   "outputs": [],
   "source": [
    "df5[['Marketing Spend New']] = ft.transform(df5[['Marketing Spend']])"
   ]
  },
  {
   "cell_type": "code",
   "execution_count": 39,
   "id": "e247f9cd",
   "metadata": {},
   "outputs": [
    {
     "data": {
      "text/html": [
       "<div>\n",
       "<style scoped>\n",
       "    .dataframe tbody tr th:only-of-type {\n",
       "        vertical-align: middle;\n",
       "    }\n",
       "\n",
       "    .dataframe tbody tr th {\n",
       "        vertical-align: top;\n",
       "    }\n",
       "\n",
       "    .dataframe thead th {\n",
       "        text-align: right;\n",
       "    }\n",
       "</style>\n",
       "<table border=\"1\" class=\"dataframe\">\n",
       "  <thead>\n",
       "    <tr style=\"text-align: right;\">\n",
       "      <th></th>\n",
       "      <th>Marketing Spend</th>\n",
       "      <th>Administration</th>\n",
       "      <th>Transport</th>\n",
       "      <th>Area</th>\n",
       "      <th>Profit</th>\n",
       "      <th>Marketing Spend New</th>\n",
       "    </tr>\n",
       "  </thead>\n",
       "  <tbody>\n",
       "    <tr>\n",
       "      <th>0</th>\n",
       "      <td>114523.61</td>\n",
       "      <td>136897.80</td>\n",
       "      <td>13.064279</td>\n",
       "      <td>Dhaka</td>\n",
       "      <td>192261.83</td>\n",
       "      <td>11.648545</td>\n",
       "    </tr>\n",
       "    <tr>\n",
       "      <th>1</th>\n",
       "      <td>162597.70</td>\n",
       "      <td>151377.59</td>\n",
       "      <td>13.003354</td>\n",
       "      <td>Ctg</td>\n",
       "      <td>191792.06</td>\n",
       "      <td>11.999040</td>\n",
       "    </tr>\n",
       "    <tr>\n",
       "      <th>2</th>\n",
       "      <td>153441.51</td>\n",
       "      <td>101145.55</td>\n",
       "      <td>12.918864</td>\n",
       "      <td>Rangpur</td>\n",
       "      <td>191050.39</td>\n",
       "      <td>11.941081</td>\n",
       "    </tr>\n",
       "    <tr>\n",
       "      <th>3</th>\n",
       "      <td>144372.41</td>\n",
       "      <td>118671.85</td>\n",
       "      <td>12.856314</td>\n",
       "      <td>Dhaka</td>\n",
       "      <td>182901.99</td>\n",
       "      <td>11.880158</td>\n",
       "    </tr>\n",
       "    <tr>\n",
       "      <th>4</th>\n",
       "      <td>142107.34</td>\n",
       "      <td>91391.77</td>\n",
       "      <td>12.810851</td>\n",
       "      <td>Rangpur</td>\n",
       "      <td>166187.94</td>\n",
       "      <td>11.864345</td>\n",
       "    </tr>\n",
       "  </tbody>\n",
       "</table>\n",
       "</div>"
      ],
      "text/plain": [
       "   Marketing Spend  Administration  Transport     Area     Profit  \\\n",
       "0        114523.61       136897.80  13.064279    Dhaka  192261.83   \n",
       "1        162597.70       151377.59  13.003354      Ctg  191792.06   \n",
       "2        153441.51       101145.55  12.918864  Rangpur  191050.39   \n",
       "3        144372.41       118671.85  12.856314    Dhaka  182901.99   \n",
       "4        142107.34        91391.77  12.810851  Rangpur  166187.94   \n",
       "\n",
       "   Marketing Spend New  \n",
       "0            11.648545  \n",
       "1            11.999040  \n",
       "2            11.941081  \n",
       "3            11.880158  \n",
       "4            11.864345  "
      ]
     },
     "execution_count": 39,
     "metadata": {},
     "output_type": "execute_result"
    }
   ],
   "source": [
    "df5.head()"
   ]
  },
  {
   "cell_type": "code",
   "execution_count": 40,
   "id": "7e56c197",
   "metadata": {},
   "outputs": [],
   "source": [
    "df5[['Administration']] = ft.fit_transform(df5[['Administration']])"
   ]
  },
  {
   "cell_type": "code",
   "execution_count": 41,
   "id": "46f041db",
   "metadata": {},
   "outputs": [
    {
     "data": {
      "text/html": [
       "<div>\n",
       "<style scoped>\n",
       "    .dataframe tbody tr th:only-of-type {\n",
       "        vertical-align: middle;\n",
       "    }\n",
       "\n",
       "    .dataframe tbody tr th {\n",
       "        vertical-align: top;\n",
       "    }\n",
       "\n",
       "    .dataframe thead th {\n",
       "        text-align: right;\n",
       "    }\n",
       "</style>\n",
       "<table border=\"1\" class=\"dataframe\">\n",
       "  <thead>\n",
       "    <tr style=\"text-align: right;\">\n",
       "      <th></th>\n",
       "      <th>Marketing Spend</th>\n",
       "      <th>Administration</th>\n",
       "      <th>Transport</th>\n",
       "      <th>Area</th>\n",
       "      <th>Profit</th>\n",
       "      <th>Marketing Spend New</th>\n",
       "    </tr>\n",
       "  </thead>\n",
       "  <tbody>\n",
       "    <tr>\n",
       "      <th>0</th>\n",
       "      <td>114523.61</td>\n",
       "      <td>11.826997</td>\n",
       "      <td>13.064279</td>\n",
       "      <td>Dhaka</td>\n",
       "      <td>192261.83</td>\n",
       "      <td>11.648545</td>\n",
       "    </tr>\n",
       "    <tr>\n",
       "      <th>1</th>\n",
       "      <td>162597.70</td>\n",
       "      <td>11.927539</td>\n",
       "      <td>13.003354</td>\n",
       "      <td>Ctg</td>\n",
       "      <td>191792.06</td>\n",
       "      <td>11.999040</td>\n",
       "    </tr>\n",
       "    <tr>\n",
       "      <th>2</th>\n",
       "      <td>153441.51</td>\n",
       "      <td>11.524326</td>\n",
       "      <td>12.918864</td>\n",
       "      <td>Rangpur</td>\n",
       "      <td>191050.39</td>\n",
       "      <td>11.941081</td>\n",
       "    </tr>\n",
       "    <tr>\n",
       "      <th>3</th>\n",
       "      <td>144372.41</td>\n",
       "      <td>11.684126</td>\n",
       "      <td>12.856314</td>\n",
       "      <td>Dhaka</td>\n",
       "      <td>182901.99</td>\n",
       "      <td>11.880158</td>\n",
       "    </tr>\n",
       "    <tr>\n",
       "      <th>4</th>\n",
       "      <td>142107.34</td>\n",
       "      <td>11.422922</td>\n",
       "      <td>12.810851</td>\n",
       "      <td>Rangpur</td>\n",
       "      <td>166187.94</td>\n",
       "      <td>11.864345</td>\n",
       "    </tr>\n",
       "  </tbody>\n",
       "</table>\n",
       "</div>"
      ],
      "text/plain": [
       "   Marketing Spend  Administration  Transport     Area     Profit  \\\n",
       "0        114523.61       11.826997  13.064279    Dhaka  192261.83   \n",
       "1        162597.70       11.927539  13.003354      Ctg  191792.06   \n",
       "2        153441.51       11.524326  12.918864  Rangpur  191050.39   \n",
       "3        144372.41       11.684126  12.856314    Dhaka  182901.99   \n",
       "4        142107.34       11.422922  12.810851  Rangpur  166187.94   \n",
       "\n",
       "   Marketing Spend New  \n",
       "0            11.648545  \n",
       "1            11.999040  \n",
       "2            11.941081  \n",
       "3            11.880158  \n",
       "4            11.864345  "
      ]
     },
     "execution_count": 41,
     "metadata": {},
     "output_type": "execute_result"
    }
   ],
   "source": [
    "df5.head()"
   ]
  },
  {
   "cell_type": "markdown",
   "id": "63e057f0",
   "metadata": {},
   "source": [
    "# Log Transformation (LOOP)"
   ]
  },
  {
   "cell_type": "code",
   "execution_count": 42,
   "id": "d86719f4",
   "metadata": {},
   "outputs": [],
   "source": [
    "target_variable = df6['Profit']"
   ]
  },
  {
   "cell_type": "code",
   "execution_count": 43,
   "id": "c57f295a",
   "metadata": {},
   "outputs": [],
   "source": [
    "features = df6.drop('Profit', axis=1) "
   ]
  },
  {
   "cell_type": "code",
   "execution_count": 44,
   "id": "edd755f6",
   "metadata": {},
   "outputs": [],
   "source": [
    "normalized_data = pd.DataFrame()"
   ]
  },
  {
   "cell_type": "code",
   "execution_count": 46,
   "id": "34d74cee",
   "metadata": {},
   "outputs": [
    {
     "name": "stdout",
     "output_type": "stream",
     "text": [
      "Column 'Area' is not numeric.\n"
     ]
    }
   ],
   "source": [
    "for column in features.columns: \n",
    "    if pd.to_numeric(features[column], errors='coerce').notnull().any() or features[column].eq(0).any():\n",
    "        ft = FunctionTransformer(np.log1p)\n",
    "        normalized_column = ft.fit_transform(features[column].values.reshape(-1, 1)) \n",
    "        normalized_data[column] = normalized_column.flatten()\n",
    "    \n",
    "    else:\n",
    "        print(f\"Column '{column}' is not numeric.\")\n",
    "      \n",
    "normalized_data['Profit'] = target_variable"
   ]
  },
  {
   "cell_type": "code",
   "execution_count": 47,
   "id": "7135fbad",
   "metadata": {},
   "outputs": [
    {
     "name": "stdout",
     "output_type": "stream",
     "text": [
      "    Marketing Spend  Administration  Transport     Profit\n",
      "0         11.648545       11.826997  13.064279  192261.83\n",
      "1         11.999040       11.927539  13.003354  191792.06\n",
      "2         11.941081       11.524326  12.918864  191050.39\n",
      "3         11.880158       11.684126  12.856314  182901.99\n",
      "4         11.864345       11.422922  12.810851  166187.94\n",
      "5         11.789632       11.511081  12.801779  156991.12\n",
      "6         11.810185       11.899547  11.757579  156122.51\n",
      "7         11.777588       11.888145  12.688121  155752.60\n",
      "8         11.699766       11.909820  12.649521  152211.77\n",
      "9         11.722667       11.596165  12.628010  149759.96\n",
      "10        11.531885       11.613631  12.342184  146121.95\n",
      "11        11.519633       11.427276  12.428198  144259.40\n",
      "12        11.449610       11.754470  12.428578  141585.52\n",
      "13        11.429472       11.816698  12.439823  134307.35\n",
      "14        11.694782       11.961121  12.454938  132602.65\n",
      "15        12.015821       11.716828  12.475249  129917.04\n",
      "16        11.264645       11.708480  12.485018  126992.93\n",
      "17        11.458027       11.885031  12.551700  125370.37\n",
      "18        11.426825       11.645503  12.594461  124266.90\n",
      "19        11.366983       11.941554        NaN  122776.86\n",
      "20        11.241836       11.642798  12.607079  118474.03\n",
      "21        11.269458       11.943242  12.610665  111313.02\n",
      "22        11.211760       11.718180  12.622544  110352.25\n",
      "23        11.120379       11.568852  12.627312  108733.99\n",
      "24        11.252145       11.505723  11.853502  108552.04\n",
      "25        11.076986       11.846208  11.834745  107404.34\n",
      "26        11.229632       11.878519  11.805976  105733.54\n",
      "27        11.185929       11.758735  12.774747  105008.31\n",
      "28        11.098205       12.115308  11.679704  103282.38\n",
      "29        11.091430       11.938409  11.581886  101004.64\n",
      "30        11.034817       11.658257  11.420067   99937.59\n",
      "31        11.020879       11.936250  11.387580   97483.56\n",
      "32        11.057375       11.769276  10.738270   97427.84\n",
      "33        10.924047       11.543052  12.276698   96778.92\n",
      "34        10.745638       11.968418  12.258659   96712.80\n",
      "35        10.736723       11.350976  12.233292   96479.51\n",
      "36        10.263424       11.752393  12.211696   90708.19\n",
      "37        10.693556       10.845137  12.191113   89949.14\n",
      "38         9.914951       11.096636  12.129548   81229.06\n",
      "39        10.559958       11.326392  12.072543   81005.76\n",
      "40        10.266578       11.683065  12.059871   78239.91\n",
      "41        10.236164       11.347010  12.010494   77798.83\n",
      "42        10.070777       11.474087  11.904982   71498.49\n",
      "43         9.649029       11.754956  10.478278   69758.98\n",
      "44        10.006889       11.949935  10.251878   65200.33\n",
      "45         6.908985       11.729278   7.552201   64926.08\n",
      "46         7.182702       11.659768  12.601876   49490.75\n",
      "47         0.000000       11.816195   0.000000   42559.73\n",
      "48         6.297201       10.854067   0.000000   35673.41\n",
      "49         0.000000       11.669799  10.718278   14681.40\n"
     ]
    }
   ],
   "source": [
    "print(normalized_data)"
   ]
  },
  {
   "cell_type": "markdown",
   "id": "fc495981",
   "metadata": {},
   "source": [
    "# Robust Scaler"
   ]
  },
  {
   "cell_type": "code",
   "execution_count": 48,
   "id": "3cd3dadd",
   "metadata": {},
   "outputs": [],
   "source": [
    "from sklearn.preprocessing import RobustScaler\n",
    "RoSc = RobustScaler()"
   ]
  },
  {
   "cell_type": "code",
   "execution_count": 49,
   "id": "21271857",
   "metadata": {},
   "outputs": [],
   "source": [
    "df_rs=RoSc.fit(df7[['Marketing Spend']]) #Calculating everything\n"
   ]
  },
  {
   "cell_type": "code",
   "execution_count": 50,
   "id": "da79786b",
   "metadata": {},
   "outputs": [
    {
     "data": {
      "text/html": [
       "<style>#sk-container-id-5 {color: black;background-color: white;}#sk-container-id-5 pre{padding: 0;}#sk-container-id-5 div.sk-toggleable {background-color: white;}#sk-container-id-5 label.sk-toggleable__label {cursor: pointer;display: block;width: 100%;margin-bottom: 0;padding: 0.3em;box-sizing: border-box;text-align: center;}#sk-container-id-5 label.sk-toggleable__label-arrow:before {content: \"▸\";float: left;margin-right: 0.25em;color: #696969;}#sk-container-id-5 label.sk-toggleable__label-arrow:hover:before {color: black;}#sk-container-id-5 div.sk-estimator:hover label.sk-toggleable__label-arrow:before {color: black;}#sk-container-id-5 div.sk-toggleable__content {max-height: 0;max-width: 0;overflow: hidden;text-align: left;background-color: #f0f8ff;}#sk-container-id-5 div.sk-toggleable__content pre {margin: 0.2em;color: black;border-radius: 0.25em;background-color: #f0f8ff;}#sk-container-id-5 input.sk-toggleable__control:checked~div.sk-toggleable__content {max-height: 200px;max-width: 100%;overflow: auto;}#sk-container-id-5 input.sk-toggleable__control:checked~label.sk-toggleable__label-arrow:before {content: \"▾\";}#sk-container-id-5 div.sk-estimator input.sk-toggleable__control:checked~label.sk-toggleable__label {background-color: #d4ebff;}#sk-container-id-5 div.sk-label input.sk-toggleable__control:checked~label.sk-toggleable__label {background-color: #d4ebff;}#sk-container-id-5 input.sk-hidden--visually {border: 0;clip: rect(1px 1px 1px 1px);clip: rect(1px, 1px, 1px, 1px);height: 1px;margin: -1px;overflow: hidden;padding: 0;position: absolute;width: 1px;}#sk-container-id-5 div.sk-estimator {font-family: monospace;background-color: #f0f8ff;border: 1px dotted black;border-radius: 0.25em;box-sizing: border-box;margin-bottom: 0.5em;}#sk-container-id-5 div.sk-estimator:hover {background-color: #d4ebff;}#sk-container-id-5 div.sk-parallel-item::after {content: \"\";width: 100%;border-bottom: 1px solid gray;flex-grow: 1;}#sk-container-id-5 div.sk-label:hover label.sk-toggleable__label {background-color: #d4ebff;}#sk-container-id-5 div.sk-serial::before {content: \"\";position: absolute;border-left: 1px solid gray;box-sizing: border-box;top: 0;bottom: 0;left: 50%;z-index: 0;}#sk-container-id-5 div.sk-serial {display: flex;flex-direction: column;align-items: center;background-color: white;padding-right: 0.2em;padding-left: 0.2em;position: relative;}#sk-container-id-5 div.sk-item {position: relative;z-index: 1;}#sk-container-id-5 div.sk-parallel {display: flex;align-items: stretch;justify-content: center;background-color: white;position: relative;}#sk-container-id-5 div.sk-item::before, #sk-container-id-5 div.sk-parallel-item::before {content: \"\";position: absolute;border-left: 1px solid gray;box-sizing: border-box;top: 0;bottom: 0;left: 50%;z-index: -1;}#sk-container-id-5 div.sk-parallel-item {display: flex;flex-direction: column;z-index: 1;position: relative;background-color: white;}#sk-container-id-5 div.sk-parallel-item:first-child::after {align-self: flex-end;width: 50%;}#sk-container-id-5 div.sk-parallel-item:last-child::after {align-self: flex-start;width: 50%;}#sk-container-id-5 div.sk-parallel-item:only-child::after {width: 0;}#sk-container-id-5 div.sk-dashed-wrapped {border: 1px dashed gray;margin: 0 0.4em 0.5em 0.4em;box-sizing: border-box;padding-bottom: 0.4em;background-color: white;}#sk-container-id-5 div.sk-label label {font-family: monospace;font-weight: bold;display: inline-block;line-height: 1.2em;}#sk-container-id-5 div.sk-label-container {text-align: center;}#sk-container-id-5 div.sk-container {/* jupyter's `normalize.less` sets `[hidden] { display: none; }` but bootstrap.min.css set `[hidden] { display: none !important; }` so we also need the `!important` here to be able to override the default hidden behavior on the sphinx rendered scikit-learn.org. See: https://github.com/scikit-learn/scikit-learn/issues/21755 */display: inline-block !important;position: relative;}#sk-container-id-5 div.sk-text-repr-fallback {display: none;}</style><div id=\"sk-container-id-5\" class=\"sk-top-container\"><div class=\"sk-text-repr-fallback\"><pre>RobustScaler()</pre><b>In a Jupyter environment, please rerun this cell to show the HTML representation or trust the notebook. <br />On GitHub, the HTML representation is unable to render, please try loading this page with nbviewer.org.</b></div><div class=\"sk-container\" hidden><div class=\"sk-item\"><div class=\"sk-estimator sk-toggleable\"><input class=\"sk-toggleable__control sk-hidden--visually\" id=\"sk-estimator-id-5\" type=\"checkbox\" checked><label for=\"sk-estimator-id-5\" class=\"sk-toggleable__label sk-toggleable__label-arrow\">RobustScaler</label><div class=\"sk-toggleable__content\"><pre>RobustScaler()</pre></div></div></div></div></div>"
      ],
      "text/plain": [
       "RobustScaler()"
      ]
     },
     "execution_count": 50,
     "metadata": {},
     "output_type": "execute_result"
    }
   ],
   "source": [
    "df_rs"
   ]
  },
  {
   "cell_type": "code",
   "execution_count": 51,
   "id": "cdeae810",
   "metadata": {},
   "outputs": [
    {
     "data": {
      "text/html": [
       "<div>\n",
       "<style scoped>\n",
       "    .dataframe tbody tr th:only-of-type {\n",
       "        vertical-align: middle;\n",
       "    }\n",
       "\n",
       "    .dataframe tbody tr th {\n",
       "        vertical-align: top;\n",
       "    }\n",
       "\n",
       "    .dataframe thead th {\n",
       "        text-align: right;\n",
       "    }\n",
       "</style>\n",
       "<table border=\"1\" class=\"dataframe\">\n",
       "  <thead>\n",
       "    <tr style=\"text-align: right;\">\n",
       "      <th></th>\n",
       "      <th>Marketing Spend</th>\n",
       "      <th>Administration</th>\n",
       "      <th>Transport</th>\n",
       "      <th>Area</th>\n",
       "      <th>Profit</th>\n",
       "    </tr>\n",
       "  </thead>\n",
       "  <tbody>\n",
       "    <tr>\n",
       "      <th>0</th>\n",
       "      <td>114523.61</td>\n",
       "      <td>136897.80</td>\n",
       "      <td>471784.10</td>\n",
       "      <td>Dhaka</td>\n",
       "      <td>192261.83</td>\n",
       "    </tr>\n",
       "    <tr>\n",
       "      <th>1</th>\n",
       "      <td>162597.70</td>\n",
       "      <td>151377.59</td>\n",
       "      <td>443898.53</td>\n",
       "      <td>Ctg</td>\n",
       "      <td>191792.06</td>\n",
       "    </tr>\n",
       "    <tr>\n",
       "      <th>2</th>\n",
       "      <td>153441.51</td>\n",
       "      <td>101145.55</td>\n",
       "      <td>407934.54</td>\n",
       "      <td>Rangpur</td>\n",
       "      <td>191050.39</td>\n",
       "    </tr>\n",
       "    <tr>\n",
       "      <th>3</th>\n",
       "      <td>144372.41</td>\n",
       "      <td>118671.85</td>\n",
       "      <td>383199.62</td>\n",
       "      <td>Dhaka</td>\n",
       "      <td>182901.99</td>\n",
       "    </tr>\n",
       "    <tr>\n",
       "      <th>4</th>\n",
       "      <td>142107.34</td>\n",
       "      <td>91391.77</td>\n",
       "      <td>366168.42</td>\n",
       "      <td>Rangpur</td>\n",
       "      <td>166187.94</td>\n",
       "    </tr>\n",
       "  </tbody>\n",
       "</table>\n",
       "</div>"
      ],
      "text/plain": [
       "   Marketing Spend  Administration  Transport     Area     Profit\n",
       "0        114523.61       136897.80  471784.10    Dhaka  192261.83\n",
       "1        162597.70       151377.59  443898.53      Ctg  191792.06\n",
       "2        153441.51       101145.55  407934.54  Rangpur  191050.39\n",
       "3        144372.41       118671.85  383199.62    Dhaka  182901.99\n",
       "4        142107.34        91391.77  366168.42  Rangpur  166187.94"
      ]
     },
     "execution_count": 51,
     "metadata": {},
     "output_type": "execute_result"
    }
   ],
   "source": [
    "df7.head()"
   ]
  },
  {
   "cell_type": "code",
   "execution_count": 52,
   "id": "b4254cbe",
   "metadata": {},
   "outputs": [],
   "source": [
    "df7[['Marketing Spend New']] = RoSc.transform(df7[['Marketing Spend']])"
   ]
  },
  {
   "cell_type": "code",
   "execution_count": 53,
   "id": "a09dd4d7",
   "metadata": {},
   "outputs": [
    {
     "data": {
      "text/html": [
       "<div>\n",
       "<style scoped>\n",
       "    .dataframe tbody tr th:only-of-type {\n",
       "        vertical-align: middle;\n",
       "    }\n",
       "\n",
       "    .dataframe tbody tr th {\n",
       "        vertical-align: top;\n",
       "    }\n",
       "\n",
       "    .dataframe thead th {\n",
       "        text-align: right;\n",
       "    }\n",
       "</style>\n",
       "<table border=\"1\" class=\"dataframe\">\n",
       "  <thead>\n",
       "    <tr style=\"text-align: right;\">\n",
       "      <th></th>\n",
       "      <th>Marketing Spend</th>\n",
       "      <th>Administration</th>\n",
       "      <th>Transport</th>\n",
       "      <th>Area</th>\n",
       "      <th>Profit</th>\n",
       "      <th>Marketing Spend New</th>\n",
       "    </tr>\n",
       "  </thead>\n",
       "  <tbody>\n",
       "    <tr>\n",
       "      <th>0</th>\n",
       "      <td>114523.61</td>\n",
       "      <td>136897.80</td>\n",
       "      <td>471784.10</td>\n",
       "      <td>Dhaka</td>\n",
       "      <td>192261.83</td>\n",
       "      <td>0.672530</td>\n",
       "    </tr>\n",
       "    <tr>\n",
       "      <th>1</th>\n",
       "      <td>162597.70</td>\n",
       "      <td>151377.59</td>\n",
       "      <td>443898.53</td>\n",
       "      <td>Ctg</td>\n",
       "      <td>191792.06</td>\n",
       "      <td>1.452113</td>\n",
       "    </tr>\n",
       "    <tr>\n",
       "      <th>2</th>\n",
       "      <td>153441.51</td>\n",
       "      <td>101145.55</td>\n",
       "      <td>407934.54</td>\n",
       "      <td>Rangpur</td>\n",
       "      <td>191050.39</td>\n",
       "      <td>1.303634</td>\n",
       "    </tr>\n",
       "    <tr>\n",
       "      <th>3</th>\n",
       "      <td>144372.41</td>\n",
       "      <td>118671.85</td>\n",
       "      <td>383199.62</td>\n",
       "      <td>Dhaka</td>\n",
       "      <td>182901.99</td>\n",
       "      <td>1.156567</td>\n",
       "    </tr>\n",
       "    <tr>\n",
       "      <th>4</th>\n",
       "      <td>142107.34</td>\n",
       "      <td>91391.77</td>\n",
       "      <td>366168.42</td>\n",
       "      <td>Rangpur</td>\n",
       "      <td>166187.94</td>\n",
       "      <td>1.119836</td>\n",
       "    </tr>\n",
       "  </tbody>\n",
       "</table>\n",
       "</div>"
      ],
      "text/plain": [
       "   Marketing Spend  Administration  Transport     Area     Profit  \\\n",
       "0        114523.61       136897.80  471784.10    Dhaka  192261.83   \n",
       "1        162597.70       151377.59  443898.53      Ctg  191792.06   \n",
       "2        153441.51       101145.55  407934.54  Rangpur  191050.39   \n",
       "3        144372.41       118671.85  383199.62    Dhaka  182901.99   \n",
       "4        142107.34        91391.77  366168.42  Rangpur  166187.94   \n",
       "\n",
       "   Marketing Spend New  \n",
       "0             0.672530  \n",
       "1             1.452113  \n",
       "2             1.303634  \n",
       "3             1.156567  \n",
       "4             1.119836  "
      ]
     },
     "execution_count": 53,
     "metadata": {},
     "output_type": "execute_result"
    }
   ],
   "source": [
    "df7.head()"
   ]
  },
  {
   "cell_type": "code",
   "execution_count": 54,
   "id": "6cf83976",
   "metadata": {},
   "outputs": [],
   "source": [
    "df7[['Administration']] = RoSc.fit_transform(df7[['Administration']])"
   ]
  },
  {
   "cell_type": "code",
   "execution_count": 55,
   "id": "5e123863",
   "metadata": {},
   "outputs": [
    {
     "data": {
      "text/html": [
       "<div>\n",
       "<style scoped>\n",
       "    .dataframe tbody tr th:only-of-type {\n",
       "        vertical-align: middle;\n",
       "    }\n",
       "\n",
       "    .dataframe tbody tr th {\n",
       "        vertical-align: top;\n",
       "    }\n",
       "\n",
       "    .dataframe thead th {\n",
       "        text-align: right;\n",
       "    }\n",
       "</style>\n",
       "<table border=\"1\" class=\"dataframe\">\n",
       "  <thead>\n",
       "    <tr style=\"text-align: right;\">\n",
       "      <th></th>\n",
       "      <th>Marketing Spend</th>\n",
       "      <th>Administration</th>\n",
       "      <th>Transport</th>\n",
       "      <th>Area</th>\n",
       "      <th>Profit</th>\n",
       "      <th>Marketing Spend New</th>\n",
       "    </tr>\n",
       "  </thead>\n",
       "  <tbody>\n",
       "    <tr>\n",
       "      <th>0</th>\n",
       "      <td>114523.61</td>\n",
       "      <td>0.345355</td>\n",
       "      <td>471784.10</td>\n",
       "      <td>Dhaka</td>\n",
       "      <td>192261.83</td>\n",
       "      <td>0.672530</td>\n",
       "    </tr>\n",
       "    <tr>\n",
       "      <th>1</th>\n",
       "      <td>162597.70</td>\n",
       "      <td>0.697565</td>\n",
       "      <td>443898.53</td>\n",
       "      <td>Ctg</td>\n",
       "      <td>191792.06</td>\n",
       "      <td>1.452113</td>\n",
       "    </tr>\n",
       "    <tr>\n",
       "      <th>2</th>\n",
       "      <td>153441.51</td>\n",
       "      <td>-0.524290</td>\n",
       "      <td>407934.54</td>\n",
       "      <td>Rangpur</td>\n",
       "      <td>191050.39</td>\n",
       "      <td>1.303634</td>\n",
       "    </tr>\n",
       "    <tr>\n",
       "      <th>3</th>\n",
       "      <td>144372.41</td>\n",
       "      <td>-0.097977</td>\n",
       "      <td>383199.62</td>\n",
       "      <td>Dhaka</td>\n",
       "      <td>182901.99</td>\n",
       "      <td>1.156567</td>\n",
       "    </tr>\n",
       "    <tr>\n",
       "      <th>4</th>\n",
       "      <td>142107.34</td>\n",
       "      <td>-0.761543</td>\n",
       "      <td>366168.42</td>\n",
       "      <td>Rangpur</td>\n",
       "      <td>166187.94</td>\n",
       "      <td>1.119836</td>\n",
       "    </tr>\n",
       "  </tbody>\n",
       "</table>\n",
       "</div>"
      ],
      "text/plain": [
       "   Marketing Spend  Administration  Transport     Area     Profit  \\\n",
       "0        114523.61        0.345355  471784.10    Dhaka  192261.83   \n",
       "1        162597.70        0.697565  443898.53      Ctg  191792.06   \n",
       "2        153441.51       -0.524290  407934.54  Rangpur  191050.39   \n",
       "3        144372.41       -0.097977  383199.62    Dhaka  182901.99   \n",
       "4        142107.34       -0.761543  366168.42  Rangpur  166187.94   \n",
       "\n",
       "   Marketing Spend New  \n",
       "0             0.672530  \n",
       "1             1.452113  \n",
       "2             1.303634  \n",
       "3             1.156567  \n",
       "4             1.119836  "
      ]
     },
     "execution_count": 55,
     "metadata": {},
     "output_type": "execute_result"
    }
   ],
   "source": [
    "df7.head()"
   ]
  },
  {
   "cell_type": "markdown",
   "id": "289361c0",
   "metadata": {},
   "source": [
    "# Robust Scaler (LOOP)"
   ]
  },
  {
   "cell_type": "code",
   "execution_count": 56,
   "id": "fa00823b",
   "metadata": {},
   "outputs": [
    {
     "name": "stdout",
     "output_type": "stream",
     "text": [
      "Column 'Area' is not numeric.\n",
      "    Marketing Spend  Administration  Transport     Profit\n",
      "0          0.672530        0.345355   1.552016  192261.83\n",
      "1          1.452113        0.697565   1.383714  191792.06\n",
      "2          1.303634       -0.524290   1.166654  191050.39\n",
      "3          1.156567       -0.097977   1.017368  182901.99\n",
      "4          1.119836       -0.761543   0.914576  166187.94\n",
      "5          0.953936       -0.556662   0.894617  156991.12\n",
      "6          0.998345        0.595921  -0.524591  156122.51\n",
      "7          0.928334        0.555328   0.659326  155752.60\n",
      "8          0.770134        0.632895   0.585311  152211.77\n",
      "9          0.815416       -0.341041   0.545285  149759.96\n",
      "10         0.468034       -0.294461   0.087672  146121.95\n",
      "11         0.447908       -0.751841   0.211904  144259.40\n",
      "12         0.337504        0.112392   0.212476  141585.52\n",
      "13         0.307158        0.311235   0.229530  134307.35\n",
      "14         0.760416        0.823317   0.252754  132602.65\n",
      "15         1.496732       -0.002018   0.284521  129917.04\n",
      "16         0.080466       -0.026811   0.300031  126992.93\n",
      "17         0.350370        0.544322   0.410047  125370.37\n",
      "18         0.303213       -0.207340   0.484556  124266.90\n",
      "19         0.216789        0.749534        NaN  122776.86\n",
      "20         0.051937       -0.214843   0.507158  118474.03\n",
      "21         0.086569        0.755842   0.513633  111313.02\n",
      "22         0.015300        0.002018   0.535252  110352.25\n",
      "23        -0.089490       -0.412265   0.544000  108733.99\n",
      "24         0.064750       -0.569635  -0.446987  108552.04\n",
      "25        -0.135996        0.409945  -0.462753  107404.34\n",
      "26         0.036937        0.521418  -0.486367  105733.54\n",
      "27        -0.015300        0.125629   0.836208  105008.31\n",
      "28        -0.113507        1.458133  -0.582342  103282.38\n",
      "29        -0.120740        0.737808  -0.648791  101004.64\n",
      "30        -0.179297       -0.171693  -0.745402   99937.59\n",
      "31        -0.193212        0.729778  -0.762983   97483.56\n",
      "32        -0.156361        0.158589  -1.017276   97427.84\n",
      "33        -0.284711       -0.477784   0.000000   96778.92\n",
      "34        -0.431759        0.851204  -0.023159   96712.80\n",
      "35        -0.438440       -0.915864  -0.055026   96479.51\n",
      "36        -0.719797        0.105966  -0.081527   90708.19\n",
      "37        -0.469966       -1.737154  -0.106257   89949.14\n",
      "38        -0.856568       -1.380444  -0.177260   81229.06\n",
      "39        -0.559341       -0.966102  -0.239219   81005.76\n",
      "40        -0.718328       -0.101037  -0.252519   78239.91\n",
      "41        -0.732297       -0.924053  -0.302764   77798.83\n",
      "42        -0.801249       -0.644839  -0.402166   71498.49\n",
      "43        -0.933171        0.113898  -1.080956   69758.98\n",
      "44        -0.824976        0.780961  -1.124408   65200.33\n",
      "45        -1.168397        0.035349  -1.283931   64926.08\n",
      "46        -1.163285       -0.167438   0.497803   49490.75\n",
      "47        -1.184617        0.309577  -1.295422   42559.73\n",
      "48        -1.175827       -1.725964  -1.295422   35673.41\n",
      "49        -1.184617       -0.139037  -1.022781   14681.40\n"
     ]
    }
   ],
   "source": [
    "target_variable = df8['Profit']\n",
    "\n",
    "features = df8.drop('Profit', axis=1) \n",
    "\n",
    "normalized_data = pd.DataFrame()\n",
    "\n",
    "for column in features.columns: \n",
    "    if pd.to_numeric(features[column], errors='coerce').notnull().any() or features[column].eq(0).any():\n",
    "        RoSc = RobustScaler()\n",
    "        normalized_column = RoSc.fit_transform(features[column].values.reshape(-1, 1)) \n",
    "        normalized_data[column] = normalized_column.flatten()\n",
    "    \n",
    "    else:\n",
    "        print(f\"Column '{column}' is not numeric.\")\n",
    "      \n",
    "normalized_data['Profit'] = target_variable\n",
    "\n",
    "print(normalized_data)"
   ]
  },
  {
   "cell_type": "markdown",
   "id": "2961f730",
   "metadata": {},
   "source": [
    "Due to repeatated format all the codes are written in one cell and have same explaination."
   ]
  },
  {
   "cell_type": "markdown",
   "id": "b5ee3df0",
   "metadata": {},
   "source": [
    "# Max Absolute Scaler"
   ]
  },
  {
   "cell_type": "code",
   "execution_count": 57,
   "id": "e82e9101",
   "metadata": {},
   "outputs": [],
   "source": [
    "from sklearn.preprocessing import MaxAbsScaler\n",
    "scaler = MaxAbsScaler()"
   ]
  },
  {
   "cell_type": "code",
   "execution_count": 58,
   "id": "c6a8a0e8",
   "metadata": {},
   "outputs": [
    {
     "data": {
      "text/html": [
       "<div>\n",
       "<style scoped>\n",
       "    .dataframe tbody tr th:only-of-type {\n",
       "        vertical-align: middle;\n",
       "    }\n",
       "\n",
       "    .dataframe tbody tr th {\n",
       "        vertical-align: top;\n",
       "    }\n",
       "\n",
       "    .dataframe thead th {\n",
       "        text-align: right;\n",
       "    }\n",
       "</style>\n",
       "<table border=\"1\" class=\"dataframe\">\n",
       "  <thead>\n",
       "    <tr style=\"text-align: right;\">\n",
       "      <th></th>\n",
       "      <th>Marketing Spend</th>\n",
       "      <th>Administration</th>\n",
       "      <th>Transport</th>\n",
       "      <th>Area</th>\n",
       "      <th>Profit</th>\n",
       "    </tr>\n",
       "  </thead>\n",
       "  <tbody>\n",
       "    <tr>\n",
       "      <th>0</th>\n",
       "      <td>114523.61</td>\n",
       "      <td>136897.80</td>\n",
       "      <td>471784.10</td>\n",
       "      <td>Dhaka</td>\n",
       "      <td>192261.83</td>\n",
       "    </tr>\n",
       "    <tr>\n",
       "      <th>1</th>\n",
       "      <td>162597.70</td>\n",
       "      <td>151377.59</td>\n",
       "      <td>443898.53</td>\n",
       "      <td>Ctg</td>\n",
       "      <td>191792.06</td>\n",
       "    </tr>\n",
       "    <tr>\n",
       "      <th>2</th>\n",
       "      <td>153441.51</td>\n",
       "      <td>101145.55</td>\n",
       "      <td>407934.54</td>\n",
       "      <td>Rangpur</td>\n",
       "      <td>191050.39</td>\n",
       "    </tr>\n",
       "    <tr>\n",
       "      <th>3</th>\n",
       "      <td>144372.41</td>\n",
       "      <td>118671.85</td>\n",
       "      <td>383199.62</td>\n",
       "      <td>Dhaka</td>\n",
       "      <td>182901.99</td>\n",
       "    </tr>\n",
       "    <tr>\n",
       "      <th>4</th>\n",
       "      <td>142107.34</td>\n",
       "      <td>91391.77</td>\n",
       "      <td>366168.42</td>\n",
       "      <td>Rangpur</td>\n",
       "      <td>166187.94</td>\n",
       "    </tr>\n",
       "  </tbody>\n",
       "</table>\n",
       "</div>"
      ],
      "text/plain": [
       "   Marketing Spend  Administration  Transport     Area     Profit\n",
       "0        114523.61       136897.80  471784.10    Dhaka  192261.83\n",
       "1        162597.70       151377.59  443898.53      Ctg  191792.06\n",
       "2        153441.51       101145.55  407934.54  Rangpur  191050.39\n",
       "3        144372.41       118671.85  383199.62    Dhaka  182901.99\n",
       "4        142107.34        91391.77  366168.42  Rangpur  166187.94"
      ]
     },
     "execution_count": 58,
     "metadata": {},
     "output_type": "execute_result"
    }
   ],
   "source": [
    "df_mas=scaler.fit(df9[['Marketing Spend']]) #Calculating everything\n",
    "df_mas\n",
    "df9.head()"
   ]
  },
  {
   "cell_type": "code",
   "execution_count": 59,
   "id": "e968268e",
   "metadata": {},
   "outputs": [
    {
     "data": {
      "text/html": [
       "<div>\n",
       "<style scoped>\n",
       "    .dataframe tbody tr th:only-of-type {\n",
       "        vertical-align: middle;\n",
       "    }\n",
       "\n",
       "    .dataframe tbody tr th {\n",
       "        vertical-align: top;\n",
       "    }\n",
       "\n",
       "    .dataframe thead th {\n",
       "        text-align: right;\n",
       "    }\n",
       "</style>\n",
       "<table border=\"1\" class=\"dataframe\">\n",
       "  <thead>\n",
       "    <tr style=\"text-align: right;\">\n",
       "      <th></th>\n",
       "      <th>Marketing Spend</th>\n",
       "      <th>Administration</th>\n",
       "      <th>Transport</th>\n",
       "      <th>Area</th>\n",
       "      <th>Profit</th>\n",
       "      <th>Marketing Spend New</th>\n",
       "    </tr>\n",
       "  </thead>\n",
       "  <tbody>\n",
       "    <tr>\n",
       "      <th>0</th>\n",
       "      <td>114523.61</td>\n",
       "      <td>136897.80</td>\n",
       "      <td>471784.10</td>\n",
       "      <td>Dhaka</td>\n",
       "      <td>192261.83</td>\n",
       "      <td>0.692617</td>\n",
       "    </tr>\n",
       "    <tr>\n",
       "      <th>1</th>\n",
       "      <td>162597.70</td>\n",
       "      <td>151377.59</td>\n",
       "      <td>443898.53</td>\n",
       "      <td>Ctg</td>\n",
       "      <td>191792.06</td>\n",
       "      <td>0.983359</td>\n",
       "    </tr>\n",
       "    <tr>\n",
       "      <th>2</th>\n",
       "      <td>153441.51</td>\n",
       "      <td>101145.55</td>\n",
       "      <td>407934.54</td>\n",
       "      <td>Rangpur</td>\n",
       "      <td>191050.39</td>\n",
       "      <td>0.927985</td>\n",
       "    </tr>\n",
       "    <tr>\n",
       "      <th>3</th>\n",
       "      <td>144372.41</td>\n",
       "      <td>118671.85</td>\n",
       "      <td>383199.62</td>\n",
       "      <td>Dhaka</td>\n",
       "      <td>182901.99</td>\n",
       "      <td>0.873136</td>\n",
       "    </tr>\n",
       "    <tr>\n",
       "      <th>4</th>\n",
       "      <td>142107.34</td>\n",
       "      <td>91391.77</td>\n",
       "      <td>366168.42</td>\n",
       "      <td>Rangpur</td>\n",
       "      <td>166187.94</td>\n",
       "      <td>0.859438</td>\n",
       "    </tr>\n",
       "  </tbody>\n",
       "</table>\n",
       "</div>"
      ],
      "text/plain": [
       "   Marketing Spend  Administration  Transport     Area     Profit  \\\n",
       "0        114523.61       136897.80  471784.10    Dhaka  192261.83   \n",
       "1        162597.70       151377.59  443898.53      Ctg  191792.06   \n",
       "2        153441.51       101145.55  407934.54  Rangpur  191050.39   \n",
       "3        144372.41       118671.85  383199.62    Dhaka  182901.99   \n",
       "4        142107.34        91391.77  366168.42  Rangpur  166187.94   \n",
       "\n",
       "   Marketing Spend New  \n",
       "0             0.692617  \n",
       "1             0.983359  \n",
       "2             0.927985  \n",
       "3             0.873136  \n",
       "4             0.859438  "
      ]
     },
     "execution_count": 59,
     "metadata": {},
     "output_type": "execute_result"
    }
   ],
   "source": [
    "df9[['Marketing Spend New']] = scaler.transform(df9[['Marketing Spend']])\n",
    "df9.head()"
   ]
  },
  {
   "cell_type": "code",
   "execution_count": 60,
   "id": "13cd03d4",
   "metadata": {},
   "outputs": [
    {
     "data": {
      "text/html": [
       "<div>\n",
       "<style scoped>\n",
       "    .dataframe tbody tr th:only-of-type {\n",
       "        vertical-align: middle;\n",
       "    }\n",
       "\n",
       "    .dataframe tbody tr th {\n",
       "        vertical-align: top;\n",
       "    }\n",
       "\n",
       "    .dataframe thead th {\n",
       "        text-align: right;\n",
       "    }\n",
       "</style>\n",
       "<table border=\"1\" class=\"dataframe\">\n",
       "  <thead>\n",
       "    <tr style=\"text-align: right;\">\n",
       "      <th></th>\n",
       "      <th>Marketing Spend</th>\n",
       "      <th>Administration</th>\n",
       "      <th>Transport</th>\n",
       "      <th>Area</th>\n",
       "      <th>Profit</th>\n",
       "      <th>Marketing Spend New</th>\n",
       "    </tr>\n",
       "  </thead>\n",
       "  <tbody>\n",
       "    <tr>\n",
       "      <th>0</th>\n",
       "      <td>114523.61</td>\n",
       "      <td>0.749527</td>\n",
       "      <td>471784.10</td>\n",
       "      <td>Dhaka</td>\n",
       "      <td>192261.83</td>\n",
       "      <td>0.692617</td>\n",
       "    </tr>\n",
       "    <tr>\n",
       "      <th>1</th>\n",
       "      <td>162597.70</td>\n",
       "      <td>0.828805</td>\n",
       "      <td>443898.53</td>\n",
       "      <td>Ctg</td>\n",
       "      <td>191792.06</td>\n",
       "      <td>0.983359</td>\n",
       "    </tr>\n",
       "    <tr>\n",
       "      <th>2</th>\n",
       "      <td>153441.51</td>\n",
       "      <td>0.553781</td>\n",
       "      <td>407934.54</td>\n",
       "      <td>Rangpur</td>\n",
       "      <td>191050.39</td>\n",
       "      <td>0.927985</td>\n",
       "    </tr>\n",
       "    <tr>\n",
       "      <th>3</th>\n",
       "      <td>144372.41</td>\n",
       "      <td>0.649738</td>\n",
       "      <td>383199.62</td>\n",
       "      <td>Dhaka</td>\n",
       "      <td>182901.99</td>\n",
       "      <td>0.873136</td>\n",
       "    </tr>\n",
       "    <tr>\n",
       "      <th>4</th>\n",
       "      <td>142107.34</td>\n",
       "      <td>0.500378</td>\n",
       "      <td>366168.42</td>\n",
       "      <td>Rangpur</td>\n",
       "      <td>166187.94</td>\n",
       "      <td>0.859438</td>\n",
       "    </tr>\n",
       "  </tbody>\n",
       "</table>\n",
       "</div>"
      ],
      "text/plain": [
       "   Marketing Spend  Administration  Transport     Area     Profit  \\\n",
       "0        114523.61        0.749527  471784.10    Dhaka  192261.83   \n",
       "1        162597.70        0.828805  443898.53      Ctg  191792.06   \n",
       "2        153441.51        0.553781  407934.54  Rangpur  191050.39   \n",
       "3        144372.41        0.649738  383199.62    Dhaka  182901.99   \n",
       "4        142107.34        0.500378  366168.42  Rangpur  166187.94   \n",
       "\n",
       "   Marketing Spend New  \n",
       "0             0.692617  \n",
       "1             0.983359  \n",
       "2             0.927985  \n",
       "3             0.873136  \n",
       "4             0.859438  "
      ]
     },
     "execution_count": 60,
     "metadata": {},
     "output_type": "execute_result"
    }
   ],
   "source": [
    "df9[['Administration']] = scaler.fit_transform(df9[['Administration']])\n",
    "df9.head()"
   ]
  },
  {
   "cell_type": "markdown",
   "id": "87bf7b7b",
   "metadata": {},
   "source": [
    "# Max Absolute Scaler (LOOP)"
   ]
  },
  {
   "cell_type": "code",
   "execution_count": 61,
   "id": "e96c7fb0",
   "metadata": {},
   "outputs": [
    {
     "name": "stdout",
     "output_type": "stream",
     "text": [
      "Column 'Area' is not numeric.\n",
      "    Marketing Spend  Administration  Transport     Profit\n",
      "0          0.692617        0.749527   1.000000  192261.83\n",
      "1          0.983359        0.828805   0.940893  191792.06\n",
      "2          0.927985        0.553781   0.864664  191050.39\n",
      "3          0.873136        0.649738   0.812235  182901.99\n",
      "4          0.859438        0.500378   0.776136  166187.94\n",
      "5          0.797566        0.546494   0.769126  156991.12\n",
      "6          0.814128        0.805926   0.270710  156122.51\n",
      "7          0.788018        0.796789   0.686493  155752.60\n",
      "8          0.729018        0.814249   0.660500  152211.77\n",
      "9          0.745906        0.595028   0.646443  149759.96\n",
      "10         0.616351        0.605512   0.485733  146121.95\n",
      "11         0.608845        0.502561   0.529362  144259.40\n",
      "12         0.567670        0.697090   0.529563  141585.52\n",
      "13         0.556352        0.741847   0.535552  134307.35\n",
      "14         0.725394        0.857110   0.543708  132602.65\n",
      "15         1.000000        0.671338   0.554864  129917.04\n",
      "16         0.471808        0.665757   0.560312  126992.93\n",
      "17         0.572468        0.794312   0.598948  125370.37\n",
      "18         0.554881        0.625122   0.625116  124266.90\n",
      "19         0.522650        0.840503        NaN  122776.86\n",
      "20         0.461169        0.623433   0.633053  118474.03\n",
      "21         0.474084        0.841923   0.635327  111313.02\n",
      "22         0.447505        0.672246   0.642920  110352.25\n",
      "23         0.408424        0.578996   0.645992  108733.99\n",
      "24         0.465947        0.543574   0.297964  108552.04\n",
      "25         0.391080        0.764065   0.292427  107404.34\n",
      "26         0.455574        0.789157   0.284134  105733.54\n",
      "27         0.436093        0.700069   0.748613  105008.31\n",
      "28         0.399467        1.000000   0.250429  103282.38\n",
      "29         0.396769        0.837864   0.227092  101004.64\n",
      "30         0.374931        0.633146   0.193163   99937.59\n",
      "31         0.369741        0.836056   0.186989   97483.56\n",
      "32         0.383485        0.707488   0.097683   97427.84\n",
      "33         0.335617        0.564249   0.454943   96778.92\n",
      "34         0.280776        0.863388   0.446810   96712.80\n",
      "35         0.278284        0.465642   0.435618   96479.51\n",
      "36         0.173353        0.695644   0.426311   90708.19\n",
      "37         0.266527        0.280780   0.417626   89949.14\n",
      "38         0.122345        0.361071   0.392690   81229.06\n",
      "39         0.233194        0.454334   0.370931   81005.76\n",
      "40         0.173901        0.649050   0.366260   78239.91\n",
      "41         0.168691        0.463799   0.348614   77798.83\n",
      "42         0.142976        0.526646   0.313705   71498.49\n",
      "43         0.093776        0.697429   0.075319   69758.98\n",
      "44         0.134127        0.847577   0.060059   65200.33\n",
      "45         0.006049        0.679748   0.004036   64926.08\n",
      "46         0.007956        0.634104   0.629768   49490.75\n",
      "47         0.000000        0.741474   0.000000   42559.73\n",
      "48         0.003278        0.283298   0.000000   35673.41\n",
      "49         0.000000        0.640496   0.095749   14681.40\n"
     ]
    }
   ],
   "source": [
    "target_variable = df10['Profit']\n",
    "\n",
    "features = df10.drop('Profit', axis=1) \n",
    "\n",
    "normalized_data = pd.DataFrame()\n",
    "\n",
    "for column in features.columns: \n",
    "    if pd.to_numeric(features[column], errors='coerce').notnull().any() or features[column].eq(0).any():\n",
    "        scaler = MaxAbsScaler()\n",
    "        normalized_column = scaler.fit_transform(features[column].values.reshape(-1, 1)) \n",
    "        normalized_data[column] = normalized_column.flatten()\n",
    "    \n",
    "    else:\n",
    "        print(f\"Column '{column}' is not numeric.\")\n",
    "      \n",
    "normalized_data['Profit'] = target_variable \n",
    "print(normalized_data)"
   ]
  },
  {
   "cell_type": "markdown",
   "id": "2b4c9898",
   "metadata": {},
   "source": [
    "Due to repeatated format all the codes are written in one cell and have same explaination."
   ]
  }
 ],
 "metadata": {
  "kernelspec": {
   "display_name": "Python 3 (ipykernel)",
   "language": "python",
   "name": "python3"
  },
  "language_info": {
   "codemirror_mode": {
    "name": "ipython",
    "version": 3
   },
   "file_extension": ".py",
   "mimetype": "text/x-python",
   "name": "python",
   "nbconvert_exporter": "python",
   "pygments_lexer": "ipython3",
   "version": "3.10.9"
  }
 },
 "nbformat": 4,
 "nbformat_minor": 5
}
